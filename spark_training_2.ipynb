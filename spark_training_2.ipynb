{
 "cells": [
  {
   "cell_type": "code",
   "execution_count": 1,
   "metadata": {},
   "outputs": [],
   "source": [
    "# SPARK SESSIONS"
   ]
  },
  {
   "cell_type": "code",
   "execution_count": 2,
   "metadata": {},
   "outputs": [
    {
     "name": "stderr",
     "output_type": "stream",
     "text": [
      "/tmp/ipykernel_182689/2934864784.py:12: DeprecationWarning: \n",
      "Pyarrow will become a required dependency of pandas in the next major release of pandas (pandas 3.0),\n",
      "(to allow more performant data types, such as the Arrow string type, and better interoperability with other libraries)\n",
      "but was not found to be installed on your system.\n",
      "If this would cause problems for you,\n",
      "please provide us feedback at https://github.com/pandas-dev/pandas/issues/54466\n",
      "        \n",
      "  import pandas as pd\n"
     ]
    }
   ],
   "source": [
    "from pyspark.sql import SparkSession\n",
    "from pyspark.sql.functions import col, desc\n",
    "from pyspark.sql.functions import monotonically_increasing_id\n",
    "from pyspark.sql.functions import *\n",
    "from pyspark.sql.types import *\n",
    "from delta.tables import *\n",
    "from pyspark.sql.functions import col, dayofmonth, month, year, date_format\n",
    "import findspark\n",
    "import zipfile\n",
    "import os\n",
    "from pyspark.sql.functions import when, lit, col, current_timestamp, input_file_name\n",
    "import pandas as pd\n",
    "import requests"
   ]
  },
  {
   "cell_type": "code",
   "execution_count": 3,
   "metadata": {},
   "outputs": [
    {
     "name": "stderr",
     "output_type": "stream",
     "text": [
      "your 131072x1 screen size is bogus. expect trouble\n",
      "25/08/08 19:57:53 WARN Utils: Your hostname, PL-5CD3262VVT resolves to a loopback address: 127.0.1.1; using 10.255.255.254 instead (on interface lo)\n",
      "25/08/08 19:57:53 WARN Utils: Set SPARK_LOCAL_IP if you need to bind to another address\n",
      "Setting default log level to \"WARN\".\n",
      "To adjust logging level use sc.setLogLevel(newLevel). For SparkR, use setLogLevel(newLevel).\n",
      "25/08/08 19:57:54 WARN NativeCodeLoader: Unable to load native-hadoop library for your platform... using builtin-java classes where applicable\n",
      "/home/r/pyspark/sparkTraining/.venv/lib/python3.11/site-packages/IPython/core/interactiveshell.py:3493: UserWarning: Config option `max_num_rows` not recognized by `SparkSql`.\n",
      "  if await self.run_code(code, result, async_=asy):\n"
     ]
    },
    {
     "name": "stderr",
     "output_type": "stream",
     "text": [
      "25/08/08 19:58:09 WARN GarbageCollectionMetrics: To enable non-built-in garbage collector(s) List(G1 Concurrent GC), users should configure it(them) to spark.eventLog.gcMetrics.youngGenerationGarbageCollectors or spark.eventLog.gcMetrics.oldGenerationGarbageCollectors\n"
     ]
    }
   ],
   "source": [
    "findspark.init()\n",
    "spark = SparkSession.builder.appName(\"sparksql\").getOrCreate()\n",
    "%load_ext sparksql_magic\n",
    "%config SparkSql.max_num_rows=20"
   ]
  },
  {
   "cell_type": "code",
   "execution_count": 8,
   "metadata": {},
   "outputs": [
    {
     "name": "stdout",
     "output_type": "stream",
     "text": [
      "The sparksql_magic extension is already loaded. To reload it, use:\n",
      "  %reload_ext sparksql_magic\n"
     ]
    },
    {
     "name": "stderr",
     "output_type": "stream",
     "text": [
      "/home/r/pyspark/sparkTraining/.venv/lib/python3.11/site-packages/IPython/core/interactiveshell.py:3493: UserWarning: Config option `max_num_rows` not recognized by `SparkSql`.\n",
      "  if await self.run_code(code, result, async_=asy):\n"
     ]
    }
   ],
   "source": [
    "%load_ext sparksql_magic\n",
    "%config SparkSql.max_num_rows=1000"
   ]
  },
  {
   "cell_type": "code",
   "execution_count": 9,
   "metadata": {},
   "outputs": [],
   "source": [
    "file1 = '/home/r/pyspark/sparkTraining/New_Query_2025-08-01_12_01pm_2025_08_08.csv'"
   ]
  },
  {
   "cell_type": "code",
   "execution_count": 10,
   "metadata": {},
   "outputs": [],
   "source": [
    "data_file1 = (\n",
    "        spark.read.format(\"csv\")\n",
    "        .option(\"inferSchema\", \"true\")\n",
    "        .option(\"header\", \"true\")\n",
    "        .option(\"sep\", \",\")\n",
    "        .load(file1)\n",
    "    )"
   ]
  },
  {
   "cell_type": "code",
   "execution_count": 11,
   "metadata": {},
   "outputs": [],
   "source": [
    "data_file1.createOrReplaceTempView(\"data_file1\")"
   ]
  },
  {
   "cell_type": "code",
   "execution_count": 15,
   "metadata": {},
   "outputs": [
    {
     "name": "stderr",
     "output_type": "stream",
     "text": [
      "                                                                                \r"
     ]
    }
   ],
   "source": [
    "data_file1.write.format(\"parquet\").save(\"data_file1.parquet\")"
   ]
  },
  {
   "cell_type": "code",
   "execution_count": null,
   "metadata": {},
   "outputs": [
    {
     "name": "stdout",
     "output_type": "stream",
     "text": [
      "only showing top 20 row(s)\n"
     ]
    },
    {
     "data": {
      "text/html": [
       "<table><tr style=\"border-bottom: 1px solid\"><td style=\"font-weight: bold\">retailer</td><td style=\"font-weight: bold\">sub_retailer</td><td style=\"font-weight: bold\">country</td><td style=\"font-weight: bold\">region</td><td style=\"font-weight: bold\">postal_code</td><td style=\"font-weight: bold\">scrape_time</td><td style=\"font-weight: bold\">keyword</td><td style=\"font-weight: bold\">ad_type</td><td style=\"font-weight: bold\">device</td><td style=\"font-weight: bold\">brand_raw</td><td style=\"font-weight: bold\">rank</td><td style=\"font-weight: bold\">product_title_id</td><td style=\"font-weight: bold\">product_id</td><td style=\"font-weight: bold\">price_amount</td><td style=\"font-weight: bold\">rating</td><td style=\"font-weight: bold\">review</td><td style=\"font-weight: bold\">product_url</td><td style=\"font-weight: bold\">image_url</td><td style=\"font-weight: bold\">oos</td><td style=\"font-weight: bold\">date</td><td style=\"font-weight: bold\">time</td><td style=\"font-weight: bold\">data_source</td><td style=\"font-weight: bold\">grid</td><td style=\"font-weight: bold\">paid</td><td style=\"font-weight: bold\">filename</td><td style=\"font-weight: bold\">product_title</td><td style=\"font-weight: bold\">price_unit</td><td style=\"font-weight: bold\">feature_label</td><td style=\"font-weight: bold\">store_id</td><td style=\"font-weight: bold\">requestor_id</td><td style=\"font-weight: bold\">month</td><td style=\"font-weight: bold\">year</td><td style=\"font-weight: bold\">source_file_name</td><td style=\"font-weight: bold\">source_last_mod_timestamp</td><td style=\"font-weight: bold\">dcom_load_timestamp</td><td style=\"font-weight: bold\">category</td><td style=\"font-weight: bold\">dcom_processing_timestamp</td></tr><tr><td>Walmart</td><td>NA</td><td>US</td><td>US</td><td>95829</td><td>2025-08-08 11:59:16.066616</td><td>aussie shampoo and conditioner</td><td>sp</td><td>mobile-app</td><td>null</td><td>1</td><td>NA</td><td>505105842</td><td>15.0</td><td>4.7</td><td>NA</td><td>https://www.walmart.com/ip/Aussie-Miracle-Moist-Shampoo-and-Conditioner-Hair-Set-26-2-fl-oz/505105842?classType=REGULAR&amp;athbdg=L1200</td><td>https://i5.walmartimages.com/seo/Aussie-Miracle-Moist-Shampoo-and-Conditioner-Hair-Set-26-2-fl-oz_d37f65b2-7e60-41ea-a137-560d3db675bc.566f38993f9a9f17807a5987b8dcdeb6.jpeg?odnHeight=1500&amp;odnWidth=1500&amp;odnBg=ffffff</td><td>null</td><td>2025-08-08</td><td>11:59:16 AM</td><td>xbyte</td><td>True</td><td>True</td><td>ab219ef7-b37a-470b-ba1a-db8666d221a7_20250808_11-59-17.json</td><td>Aussie Miracle Moist Shampoo and Conditioner Dual Pack Hair Set 262 fl oz</td><td>USD</td><td>null</td><td>none</td><td>scheduler_on_VM</td><td>8</td><td>2025</td><td>abfss://raw@sa02flexflowdcom01prod.dfs.core.windows.net/schedule/xbyte/walmart/scheduler_on_VM/3eec335c-11e6-4497-8fbe-754d0f84d148/keyword_search/2025/08/ab219ef7-b37a-470b-ba1a-db8666d221a7_20250808_11-59-17.json</td><td>2025-08-08 11:59:18</td><td>2025-08-08 12:07:47.817000</td><td>null</td><td>2025-08-08 17:36:25.721487</td></tr><tr><td>Walmart</td><td>NA</td><td>US</td><td>US</td><td>95829</td><td>2025-08-08 11:59:16.066666</td><td>aussie shampoo and conditioner</td><td>sp</td><td>mobile-app</td><td>null</td><td>2</td><td>NA</td><td>1480516348</td><td>15.0</td><td>4.6</td><td>NA</td><td>https://www.walmart.com/ip/Aussie-Miracle-Curls-Shampoo-and-Conditioner-Dual-Pack-For-All-Hair-Types-26-2-oz/1480516348?classType=REGULAR&amp;athbdg=L1102</td><td>https://i5.walmartimages.com/seo/Aussie-Miracle-Curls-Shampoo-and-Conditioner-Dual-Pack-For-All-Hair-Types-26-2-oz_68afe0a7-520d-4089-887c-3abccf5ddea6.2981a321dff289c2c9fef81e1ebf01d4.jpeg?odnHeight=1500&amp;odnWidth=1500&amp;odnBg=ffffff</td><td>null</td><td>2025-08-08</td><td>11:59:16 AM</td><td>xbyte</td><td>True</td><td>True</td><td>ab219ef7-b37a-470b-ba1a-db8666d221a7_20250808_11-59-17.json</td><td>Aussie Miracle Curls Shampoo and Conditioner Dual Pack For All Hair Types 262 oz</td><td>USD</td><td>null</td><td>none</td><td>scheduler_on_VM</td><td>8</td><td>2025</td><td>abfss://raw@sa02flexflowdcom01prod.dfs.core.windows.net/schedule/xbyte/walmart/scheduler_on_VM/3eec335c-11e6-4497-8fbe-754d0f84d148/keyword_search/2025/08/ab219ef7-b37a-470b-ba1a-db8666d221a7_20250808_11-59-17.json</td><td>2025-08-08 11:59:18</td><td>2025-08-08 12:07:47.817000</td><td>null</td><td>2025-08-08 17:36:25.721487</td></tr><tr><td>Walmart</td><td>NA</td><td>US</td><td>US</td><td>95829</td><td>2025-08-08 11:59:16.066689</td><td>aussie shampoo and conditioner</td><td>organic</td><td>mobile-app</td><td>null</td><td>3</td><td>NA</td><td>505105842</td><td>15.0</td><td>4.7</td><td>NA</td><td>https://www.walmart.com/ip/Aussie-Miracle-Moist-Shampoo-and-Conditioner-Hair-Set-26-2-fl-oz/505105842?classType=REGULAR&amp;athbdg=L1200</td><td>https://i5.walmartimages.com/seo/Aussie-Miracle-Moist-Shampoo-and-Conditioner-Hair-Set-26-2-fl-oz_d37f65b2-7e60-41ea-a137-560d3db675bc.566f38993f9a9f17807a5987b8dcdeb6.jpeg?odnHeight=1500&amp;odnWidth=1500&amp;odnBg=ffffff</td><td>null</td><td>2025-08-08</td><td>11:59:16 AM</td><td>xbyte</td><td>True</td><td>False</td><td>ab219ef7-b37a-470b-ba1a-db8666d221a7_20250808_11-59-17.json</td><td>Aussie Miracle Moist Shampoo and Conditioner Dual Pack Hair Set 262 fl oz</td><td>USD</td><td>null</td><td>none</td><td>scheduler_on_VM</td><td>8</td><td>2025</td><td>abfss://raw@sa02flexflowdcom01prod.dfs.core.windows.net/schedule/xbyte/walmart/scheduler_on_VM/3eec335c-11e6-4497-8fbe-754d0f84d148/keyword_search/2025/08/ab219ef7-b37a-470b-ba1a-db8666d221a7_20250808_11-59-17.json</td><td>2025-08-08 11:59:18</td><td>2025-08-08 12:07:47.817000</td><td>null</td><td>2025-08-08 17:36:25.721487</td></tr><tr><td>Walmart</td><td>NA</td><td>US</td><td>US</td><td>95829</td><td>2025-08-08 11:59:16.066706</td><td>aussie shampoo and conditioner</td><td>organic</td><td>mobile-app</td><td>null</td><td>4</td><td>NA</td><td>1480516348</td><td>15.0</td><td>4.6</td><td>NA</td><td>https://www.walmart.com/ip/Aussie-Miracle-Curls-Shampoo-and-Conditioner-Dual-Pack-For-All-Hair-Types-26-2-oz/1480516348?classType=REGULAR&amp;athbdg=L1102</td><td>https://i5.walmartimages.com/seo/Aussie-Miracle-Curls-Shampoo-and-Conditioner-Dual-Pack-For-All-Hair-Types-26-2-oz_68afe0a7-520d-4089-887c-3abccf5ddea6.2981a321dff289c2c9fef81e1ebf01d4.jpeg?odnHeight=1500&amp;odnWidth=1500&amp;odnBg=ffffff</td><td>null</td><td>2025-08-08</td><td>11:59:16 AM</td><td>xbyte</td><td>True</td><td>False</td><td>ab219ef7-b37a-470b-ba1a-db8666d221a7_20250808_11-59-17.json</td><td>Aussie Miracle Curls Shampoo and Conditioner Dual Pack For All Hair Types 262 oz</td><td>USD</td><td>null</td><td>none</td><td>scheduler_on_VM</td><td>8</td><td>2025</td><td>abfss://raw@sa02flexflowdcom01prod.dfs.core.windows.net/schedule/xbyte/walmart/scheduler_on_VM/3eec335c-11e6-4497-8fbe-754d0f84d148/keyword_search/2025/08/ab219ef7-b37a-470b-ba1a-db8666d221a7_20250808_11-59-17.json</td><td>2025-08-08 11:59:18</td><td>2025-08-08 12:07:47.817000</td><td>null</td><td>2025-08-08 17:36:25.721487</td></tr><tr><td>Walmart</td><td>NA</td><td>US</td><td>US</td><td>95829</td><td>2025-08-08 11:59:16.066723</td><td>aussie shampoo and conditioner</td><td>sp</td><td>mobile-app</td><td>null</td><td>5</td><td>NA</td><td>853590359</td><td>15.0</td><td>4.7</td><td>NA</td><td>https://www.walmart.com/ip/Aussie-Miracle-Volume-Shampoo-and-Conditioner-Hair-Set-All-Hair-Types-26-2-fl-oz/853590359?classType=VARIANT</td><td>https://i5.walmartimages.com/seo/Aussie-Miracle-Volume-Shampoo-and-Conditioner-Hair-Set-All-Hair-Types-26-2-fl-oz_3924c90f-46a5-4ad1-b4c7-a6e8181ed26b.0689277e7ce947ebe3647b3ba9e9c07e.jpeg?odnHeight=1500&amp;odnWidth=1500&amp;odnBg=ffffff</td><td>null</td><td>2025-08-08</td><td>11:59:16 AM</td><td>xbyte</td><td>True</td><td>True</td><td>ab219ef7-b37a-470b-ba1a-db8666d221a7_20250808_11-59-17.json</td><td>Aussie Miracle Volume Shampoo and Conditioner Dual Pack Hair Set All Hair Types 262 fl oz</td><td>USD</td><td>null</td><td>none</td><td>scheduler_on_VM</td><td>8</td><td>2025</td><td>abfss://raw@sa02flexflowdcom01prod.dfs.core.windows.net/schedule/xbyte/walmart/scheduler_on_VM/3eec335c-11e6-4497-8fbe-754d0f84d148/keyword_search/2025/08/ab219ef7-b37a-470b-ba1a-db8666d221a7_20250808_11-59-17.json</td><td>2025-08-08 11:59:18</td><td>2025-08-08 12:07:47.817000</td><td>null</td><td>2025-08-08 17:36:25.721487</td></tr><tr><td>Walmart</td><td>NA</td><td>US</td><td>US</td><td>95829</td><td>2025-08-08 11:59:16.066739</td><td>aussie shampoo and conditioner</td><td>sp</td><td>mobile-app</td><td>null</td><td>6</td><td>NA</td><td>5052941127</td><td>15.0</td><td>4.7</td><td>NA</td><td>https://www.walmart.com/ip/Aussie-Miracle-Repairer-Dual-Pack-for-All-Hair-Types-26-2-fl-oz-Shampoo-and-Conditioner/5052941127?classType=REGULAR&amp;athbdg=L1600</td><td>https://i5.walmartimages.com/seo/Aussie-Miracle-Repairer-Dual-Pack-for-All-Hair-Types-26-2-fl-oz-Shampoo-and-Conditioner_738728c6-0f06-4f94-993e-6418fd531974.947cc2406a06fc0b89516f31e03d28e3.jpeg?odnHeight=1500&amp;odnWidth=1500&amp;odnBg=ffffff</td><td>null</td><td>2025-08-08</td><td>11:59:16 AM</td><td>xbyte</td><td>True</td><td>True</td><td>ab219ef7-b37a-470b-ba1a-db8666d221a7_20250808_11-59-17.json</td><td>Aussie Miracle Repairer Dual Pack for All Hair Types 262 fl oz Shampoo and Conditioner</td><td>USD</td><td>null</td><td>none</td><td>scheduler_on_VM</td><td>8</td><td>2025</td><td>abfss://raw@sa02flexflowdcom01prod.dfs.core.windows.net/schedule/xbyte/walmart/scheduler_on_VM/3eec335c-11e6-4497-8fbe-754d0f84d148/keyword_search/2025/08/ab219ef7-b37a-470b-ba1a-db8666d221a7_20250808_11-59-17.json</td><td>2025-08-08 11:59:18</td><td>2025-08-08 12:07:47.817000</td><td>null</td><td>2025-08-08 17:36:25.721487</td></tr><tr><td>Walmart</td><td>NA</td><td>US</td><td>US</td><td>95829</td><td>2025-08-08 11:59:16.066755</td><td>aussie shampoo and conditioner</td><td>sp</td><td>mobile-app</td><td>null</td><td>7</td><td>NA</td><td>40694186</td><td>8.0</td><td>4.7</td><td>NA</td><td>https://www.walmart.com/ip/Aussie-Total-Miracle-Shampoo-Paraben-Free-for-All-Hair-Types-26-2-fl-oz/40694186?classType=REGULAR&amp;athbdg=L1102</td><td>https://i5.walmartimages.com/seo/Aussie-Total-Miracle-Shampoo-Paraben-Free-for-All-Hair-Types-26-2-fl-oz_05648013-363e-4ff5-9e38-cbe518284691.88475fa917d8ccb8d133a612b35913b9.jpeg?odnHeight=1500&amp;odnWidth=1500&amp;odnBg=ffffff</td><td>null</td><td>2025-08-08</td><td>11:59:16 AM</td><td>xbyte</td><td>True</td><td>True</td><td>ab219ef7-b37a-470b-ba1a-db8666d221a7_20250808_11-59-17.json</td><td>Aussie Total Miracle Shampoo Paraben Free for All Hair Types 262 fl oz</td><td>USD</td><td>null</td><td>none</td><td>scheduler_on_VM</td><td>8</td><td>2025</td><td>abfss://raw@sa02flexflowdcom01prod.dfs.core.windows.net/schedule/xbyte/walmart/scheduler_on_VM/3eec335c-11e6-4497-8fbe-754d0f84d148/keyword_search/2025/08/ab219ef7-b37a-470b-ba1a-db8666d221a7_20250808_11-59-17.json</td><td>2025-08-08 11:59:18</td><td>2025-08-08 12:07:47.817000</td><td>null</td><td>2025-08-08 17:36:25.721487</td></tr><tr><td>Walmart</td><td>NA</td><td>US</td><td>US</td><td>95829</td><td>2025-08-08 11:59:16.066775</td><td>aussie shampoo and conditioner</td><td>organic</td><td>mobile-app</td><td>null</td><td>8</td><td>NA</td><td>224262046</td><td>15.0</td><td>4.7</td><td>NA</td><td>https://www.walmart.com/ip/Aussie-Total-Miracle-Apricot-Macadamia-Oil-Paraben-Free-Shampoo-and-Conditioner-Twin-Pack/224262046?classType=REGULAR&amp;athbdg=L1102</td><td>https://i5.walmartimages.com/seo/Aussie-Total-Miracle-Apricot-Macadamia-Oil-Paraben-Free-Shampoo-and-Conditioner-Twin-Pack_b2467961-20c2-439e-bf77-5c9f191df5dd.3872d93fcf066cdcd6e649f02b3a4308.jpeg?odnHeight=1500&amp;odnWidth=1500&amp;odnBg=ffffff</td><td>null</td><td>2025-08-08</td><td>11:59:16 AM</td><td>xbyte</td><td>True</td><td>False</td><td>ab219ef7-b37a-470b-ba1a-db8666d221a7_20250808_11-59-17.json</td><td>Aussie Total Miracle Apricot Macadamia Oil Paraben Free Shampoo and Conditioner Dual Pack</td><td>USD</td><td>null</td><td>none</td><td>scheduler_on_VM</td><td>8</td><td>2025</td><td>abfss://raw@sa02flexflowdcom01prod.dfs.core.windows.net/schedule/xbyte/walmart/scheduler_on_VM/3eec335c-11e6-4497-8fbe-754d0f84d148/keyword_search/2025/08/ab219ef7-b37a-470b-ba1a-db8666d221a7_20250808_11-59-17.json</td><td>2025-08-08 11:59:18</td><td>2025-08-08 12:07:47.817000</td><td>null</td><td>2025-08-08 17:36:25.721487</td></tr><tr><td>Walmart</td><td>NA</td><td>US</td><td>US</td><td>95829</td><td>2025-08-08 11:59:16.066790</td><td>aussie shampoo and conditioner</td><td>organic</td><td>mobile-app</td><td>null</td><td>9</td><td>NA</td><td>5052941127</td><td>15.0</td><td>4.7</td><td>NA</td><td>https://www.walmart.com/ip/Aussie-Miracle-Repairer-Dual-Pack-for-All-Hair-Types-26-2-fl-oz-Shampoo-and-Conditioner/5052941127?classType=REGULAR&amp;athbdg=L1600</td><td>https://i5.walmartimages.com/seo/Aussie-Miracle-Repairer-Dual-Pack-for-All-Hair-Types-26-2-fl-oz-Shampoo-and-Conditioner_738728c6-0f06-4f94-993e-6418fd531974.947cc2406a06fc0b89516f31e03d28e3.jpeg?odnHeight=1500&amp;odnWidth=1500&amp;odnBg=ffffff</td><td>null</td><td>2025-08-08</td><td>11:59:16 AM</td><td>xbyte</td><td>True</td><td>False</td><td>ab219ef7-b37a-470b-ba1a-db8666d221a7_20250808_11-59-17.json</td><td>Aussie Miracle Repairer Dual Pack for All Hair Types 262 fl oz Shampoo and Conditioner</td><td>USD</td><td>null</td><td>none</td><td>scheduler_on_VM</td><td>8</td><td>2025</td><td>abfss://raw@sa02flexflowdcom01prod.dfs.core.windows.net/schedule/xbyte/walmart/scheduler_on_VM/3eec335c-11e6-4497-8fbe-754d0f84d148/keyword_search/2025/08/ab219ef7-b37a-470b-ba1a-db8666d221a7_20250808_11-59-17.json</td><td>2025-08-08 11:59:18</td><td>2025-08-08 12:07:47.817000</td><td>null</td><td>2025-08-08 17:36:25.721487</td></tr><tr><td>Walmart</td><td>NA</td><td>US</td><td>US</td><td>95829</td><td>2025-08-08 11:59:16.066806</td><td>aussie shampoo and conditioner</td><td>sp</td><td>mobile-app</td><td>null</td><td>10</td><td>NA</td><td>270111177</td><td>8.0</td><td>4.6</td><td>NA</td><td>https://www.walmart.com/ip/Aussie-Miracle-Moist-Conditioner-with-Avocado-Paraben-Free-For-Dry-Hair-Types-26-2-oz/270111177?classType=REGULAR&amp;athbdg=L1102</td><td>https://i5.walmartimages.com/seo/Aussie-Miracle-Moist-Conditioner-with-Avocado-Paraben-Free-For-Dry-Hair-Types-26-2-oz_808d9a9b-4e17-46f9-89d7-355488f6f4f7.c55b349031fcfa23b71441cf53b3f6ba.jpeg?odnHeight=1500&amp;odnWidth=1500&amp;odnBg=ffffff</td><td>null</td><td>2025-08-08</td><td>11:59:16 AM</td><td>xbyte</td><td>True</td><td>True</td><td>ab219ef7-b37a-470b-ba1a-db8666d221a7_20250808_11-59-17.json</td><td>Aussie Miracle Moist Conditioner with Avocado Paraben Free For Dry Hair Types 262 oz</td><td>USD</td><td>null</td><td>none</td><td>scheduler_on_VM</td><td>8</td><td>2025</td><td>abfss://raw@sa02flexflowdcom01prod.dfs.core.windows.net/schedule/xbyte/walmart/scheduler_on_VM/3eec335c-11e6-4497-8fbe-754d0f84d148/keyword_search/2025/08/ab219ef7-b37a-470b-ba1a-db8666d221a7_20250808_11-59-17.json</td><td>2025-08-08 11:59:18</td><td>2025-08-08 12:07:47.817000</td><td>null</td><td>2025-08-08 17:36:25.721487</td></tr><tr><td>Walmart</td><td>NA</td><td>US</td><td>US</td><td>95829</td><td>2025-08-08 11:59:16.066821</td><td>aussie shampoo and conditioner</td><td>sp</td><td>mobile-app</td><td>null</td><td>11</td><td>NA</td><td>16417865851</td><td>25.0</td><td>null</td><td>NA</td><td>https://www.walmart.com/ip/Aussie-Total-Miracle-7-Benefit-Shampoo-And-Conditioner-Set-With-Apricot-Oil-12-1-fl-oz-each/16417865851?classType=REGULAR</td><td>https://i5.walmartimages.com/seo/Aussie-Total-Miracle-7-Benefit-Shampoo-And-Conditioner-Set-With-Apricot-Oil-12-1-fl-oz-each_eae9de7a-6aea-4415-88c4-677ba5676549.9e972d0126053c459cc09d5664937305.jpeg?odnHeight=1500&amp;odnWidth=1500&amp;odnBg=ffffff</td><td>null</td><td>2025-08-08</td><td>11:59:16 AM</td><td>xbyte</td><td>True</td><td>True</td><td>ab219ef7-b37a-470b-ba1a-db8666d221a7_20250808_11-59-17.json</td><td>Aussie Total Miracle 7 Benefit Shampoo And Conditioner Set With Apricot Oil 121 fl oz each</td><td>USD</td><td>null</td><td>none</td><td>scheduler_on_VM</td><td>8</td><td>2025</td><td>abfss://raw@sa02flexflowdcom01prod.dfs.core.windows.net/schedule/xbyte/walmart/scheduler_on_VM/3eec335c-11e6-4497-8fbe-754d0f84d148/keyword_search/2025/08/ab219ef7-b37a-470b-ba1a-db8666d221a7_20250808_11-59-17.json</td><td>2025-08-08 11:59:18</td><td>2025-08-08 12:07:47.817000</td><td>null</td><td>2025-08-08 17:36:25.721487</td></tr><tr><td>Walmart</td><td>NA</td><td>US</td><td>US</td><td>95829</td><td>2025-08-08 11:59:16.066837</td><td>aussie shampoo and conditioner</td><td>organic</td><td>mobile-app</td><td>null</td><td>12</td><td>NA</td><td>853590359</td><td>15.0</td><td>4.7</td><td>NA</td><td>https://www.walmart.com/ip/Aussie-Miracle-Volume-Shampoo-and-Conditioner-Hair-Set-All-Hair-Types-26-2-fl-oz/853590359?classType=VARIANT</td><td>https://i5.walmartimages.com/seo/Aussie-Miracle-Volume-Shampoo-and-Conditioner-Hair-Set-All-Hair-Types-26-2-fl-oz_3924c90f-46a5-4ad1-b4c7-a6e8181ed26b.0689277e7ce947ebe3647b3ba9e9c07e.jpeg?odnHeight=1500&amp;odnWidth=1500&amp;odnBg=ffffff</td><td>null</td><td>2025-08-08</td><td>11:59:16 AM</td><td>xbyte</td><td>True</td><td>False</td><td>ab219ef7-b37a-470b-ba1a-db8666d221a7_20250808_11-59-17.json</td><td>Aussie Miracle Volume Shampoo and Conditioner Dual Pack Hair Set All Hair Types 262 fl oz</td><td>USD</td><td>null</td><td>none</td><td>scheduler_on_VM</td><td>8</td><td>2025</td><td>abfss://raw@sa02flexflowdcom01prod.dfs.core.windows.net/schedule/xbyte/walmart/scheduler_on_VM/3eec335c-11e6-4497-8fbe-754d0f84d148/keyword_search/2025/08/ab219ef7-b37a-470b-ba1a-db8666d221a7_20250808_11-59-17.json</td><td>2025-08-08 11:59:18</td><td>2025-08-08 12:07:47.817000</td><td>null</td><td>2025-08-08 17:36:25.721487</td></tr><tr><td>Walmart</td><td>NA</td><td>US</td><td>US</td><td>95829</td><td>2025-08-08 11:59:16.066855</td><td>aussie shampoo and conditioner</td><td>organic</td><td>mobile-app</td><td>null</td><td>13</td><td>NA</td><td>5333232478</td><td>20.9</td><td>null</td><td>NA</td><td>https://www.walmart.com/ip/Aussie-Miracle-Curls-Shampoo-Conditioner-Deep-Conditioner-Set-with-Coconut-Jojoba-Oil-For-All-Hair-Types-Paraben-Free/5333232478?classType=REGULAR</td><td>https://i5.walmartimages.com/seo/Aussie-Miracle-Curls-Shampoo-Conditioner-Deep-Conditioner-Set-with-Coconut-Jojoba-Oil-For-All-Hair-Types-Paraben-Free_fff3d841-3fdb-4633-9865-b322dc83f7e8.df2552946ce51bd5e2bdd63931ab5757.png?odnHeight=1500&amp;odnWidth=1500&amp;odnBg=ffffff</td><td>null</td><td>2025-08-08</td><td>11:59:16 AM</td><td>xbyte</td><td>True</td><td>False</td><td>ab219ef7-b37a-470b-ba1a-db8666d221a7_20250808_11-59-17.json</td><td>Aussie Miracle Curls Shampoo Conditioner Deep Conditioner Set with Coconut Jojoba Oil For All Hair Types Paraben Free</td><td>USD</td><td>null</td><td>none</td><td>scheduler_on_VM</td><td>8</td><td>2025</td><td>abfss://raw@sa02flexflowdcom01prod.dfs.core.windows.net/schedule/xbyte/walmart/scheduler_on_VM/3eec335c-11e6-4497-8fbe-754d0f84d148/keyword_search/2025/08/ab219ef7-b37a-470b-ba1a-db8666d221a7_20250808_11-59-17.json</td><td>2025-08-08 11:59:18</td><td>2025-08-08 12:07:47.817000</td><td>null</td><td>2025-08-08 17:36:25.721487</td></tr><tr><td>Walmart</td><td>NA</td><td>US</td><td>US</td><td>95829</td><td>2025-08-08 11:59:16.066870</td><td>aussie shampoo and conditioner</td><td>organic</td><td>mobile-app</td><td>null</td><td>14</td><td>NA</td><td>5329180598</td><td>14.9</td><td>null</td><td>NA</td><td>https://www.walmart.com/ip/Aussie-Kids-Shampoo-Conditioner-Detangler-Set-Moisturizes-Hair-Sulfate-Free-For-All-Hair-Types/5329180598?classType=REGULAR</td><td>https://i5.walmartimages.com/seo/Aussie-Kids-Shampoo-Conditioner-Detangler-Set-Moisturizes-Hair-Sulfate-Free-For-All-Hair-Types_8e6a6a8e-a3d3-476f-a405-a6b9c8f0838d.a02684353bface2f8015f0c4a498c0e8.jpeg?odnHeight=1500&amp;odnWidth=1500&amp;odnBg=ffffff</td><td>null</td><td>2025-08-08</td><td>11:59:16 AM</td><td>xbyte</td><td>True</td><td>False</td><td>ab219ef7-b37a-470b-ba1a-db8666d221a7_20250808_11-59-17.json</td><td>Aussie Kids Shampoo Conditioner Detangler Set Moisturizes Hair Sulfate Free For All Hair Types</td><td>USD</td><td>null</td><td>none</td><td>scheduler_on_VM</td><td>8</td><td>2025</td><td>abfss://raw@sa02flexflowdcom01prod.dfs.core.windows.net/schedule/xbyte/walmart/scheduler_on_VM/3eec335c-11e6-4497-8fbe-754d0f84d148/keyword_search/2025/08/ab219ef7-b37a-470b-ba1a-db8666d221a7_20250808_11-59-17.json</td><td>2025-08-08 11:59:18</td><td>2025-08-08 12:07:47.817000</td><td>null</td><td>2025-08-08 17:36:25.721487</td></tr><tr><td>Walmart</td><td>NA</td><td>US</td><td>US</td><td>95829</td><td>2025-08-08 11:59:16.066886</td><td>aussie shampoo and conditioner</td><td>organic</td><td>mobile-app</td><td>null</td><td>15</td><td>NA</td><td>16476008530</td><td>14.9</td><td>null</td><td>NA</td><td>https://www.walmart.com/ip/Aussie-Miracle-Moisture-Everything-Shower-Kit/16476008530?classType=REGULAR</td><td>https://i5.walmartimages.com/seo/Aussie-Miracle-Moisture-Everything-Shower-Kit_7917b2ec-030e-4b3a-b9b2-b813a9c2caba.b78907790cd8a12aef55bbb7a435547a.jpeg?odnHeight=1500&amp;odnWidth=1500&amp;odnBg=ffffff</td><td>null</td><td>2025-08-08</td><td>11:59:16 AM</td><td>xbyte</td><td>True</td><td>False</td><td>ab219ef7-b37a-470b-ba1a-db8666d221a7_20250808_11-59-17.json</td><td>Aussie Miracle Moisture Everything Shower Kit</td><td>USD</td><td>null</td><td>none</td><td>scheduler_on_VM</td><td>8</td><td>2025</td><td>abfss://raw@sa02flexflowdcom01prod.dfs.core.windows.net/schedule/xbyte/walmart/scheduler_on_VM/3eec335c-11e6-4497-8fbe-754d0f84d148/keyword_search/2025/08/ab219ef7-b37a-470b-ba1a-db8666d221a7_20250808_11-59-17.json</td><td>2025-08-08 11:59:18</td><td>2025-08-08 12:07:47.817000</td><td>null</td><td>2025-08-08 17:36:25.721487</td></tr><tr><td>Walmart</td><td>NA</td><td>US</td><td>US</td><td>95829</td><td>2025-08-08 11:59:16.066904</td><td>aussie shampoo and conditioner</td><td>organic</td><td>mobile-app</td><td>null</td><td>16</td><td>NA</td><td>3383221200</td><td>28.5</td><td>4.6</td><td>NA</td><td>https://www.walmart.com/ip/Aussie-Multi-Miracle-Shampoo-and-Conditioner-Pom-and-Shea-Butter-33-Fl-Oz-2-Pack/3383221200?classType=REGULAR</td><td>https://i5.walmartimages.com/seo/Aussie-Multi-Miracle-Shampoo-and-Conditioner-Pom-and-Shea-Butter-33-Fl-Oz-2-Pack_02aee909-a75d-4396-b71f-cefe0089685f.dbcfa142091d0d31f65af79c49f2882d.jpeg?odnHeight=1500&amp;odnWidth=1500&amp;odnBg=ffffff</td><td>null</td><td>2025-08-08</td><td>11:59:16 AM</td><td>xbyte</td><td>True</td><td>False</td><td>ab219ef7-b37a-470b-ba1a-db8666d221a7_20250808_11-59-17.json</td><td>Aussie Multi Miracle Shampoo and Conditioner Pom and Shea Butter 33 Fl Oz 2 Pack</td><td>USD</td><td>null</td><td>none</td><td>scheduler_on_VM</td><td>8</td><td>2025</td><td>abfss://raw@sa02flexflowdcom01prod.dfs.core.windows.net/schedule/xbyte/walmart/scheduler_on_VM/3eec335c-11e6-4497-8fbe-754d0f84d148/keyword_search/2025/08/ab219ef7-b37a-470b-ba1a-db8666d221a7_20250808_11-59-17.json</td><td>2025-08-08 11:59:18</td><td>2025-08-08 12:07:47.817000</td><td>null</td><td>2025-08-08 17:36:25.721487</td></tr><tr><td>Walmart</td><td>NA</td><td>US</td><td>US</td><td>95829</td><td>2025-08-08 11:59:16.066919</td><td>aussie shampoo and conditioner</td><td>organic</td><td>mobile-app</td><td>null</td><td>17</td><td>NA</td><td>16495664570</td><td>19.9</td><td>null</td><td>NA</td><td>https://www.walmart.com/ip/Aussie-Miracle-Curly-Girl-Starter-Kit/16495664570?classType=REGULAR</td><td>https://i5.walmartimages.com/seo/Aussie-Miracle-Curly-Girl-Starter-Kit_2169965d-7d10-4747-9c5c-880da2c3ddbd.2d23862aa7af541dffbc3b36356b45a5.jpeg?odnHeight=1500&amp;odnWidth=1500&amp;odnBg=ffffff</td><td>null</td><td>2025-08-08</td><td>11:59:16 AM</td><td>xbyte</td><td>True</td><td>False</td><td>ab219ef7-b37a-470b-ba1a-db8666d221a7_20250808_11-59-17.json</td><td>Aussie Miracle Curly Girl Starter Kit</td><td>USD</td><td>null</td><td>none</td><td>scheduler_on_VM</td><td>8</td><td>2025</td><td>abfss://raw@sa02flexflowdcom01prod.dfs.core.windows.net/schedule/xbyte/walmart/scheduler_on_VM/3eec335c-11e6-4497-8fbe-754d0f84d148/keyword_search/2025/08/ab219ef7-b37a-470b-ba1a-db8666d221a7_20250808_11-59-17.json</td><td>2025-08-08 11:59:18</td><td>2025-08-08 12:07:47.817000</td><td>null</td><td>2025-08-08 17:36:25.721487</td></tr><tr><td>Walmart</td><td>NA</td><td>US</td><td>US</td><td>95829</td><td>2025-08-08 11:59:16.066935</td><td>aussie shampoo and conditioner</td><td>organic</td><td>mobile-app</td><td>null</td><td>18</td><td>NA</td><td>1698268744</td><td>20.4</td><td>4.6</td><td>NA</td><td>https://www.walmart.com/ip/Aussie-Miracle-Moist-Shampoo-Conditioner-Deep-Conditioner-Set-Paraben-Free-for-Dry-Hair-Types/1698268744?classType=REGULAR</td><td>https://i5.walmartimages.com/seo/Aussie-Miracle-Moist-Shampoo-Conditioner-Deep-Conditioner-Set-Paraben-Free-for-Dry-Hair-Types_c5389e49-21f8-4d62-a174-5d6dcb70d26b.2e10033d115bb21bbd5a61751889af22.png?odnHeight=1500&amp;odnWidth=1500&amp;odnBg=ffffff</td><td>null</td><td>2025-08-08</td><td>11:59:16 AM</td><td>xbyte</td><td>True</td><td>False</td><td>ab219ef7-b37a-470b-ba1a-db8666d221a7_20250808_11-59-17.json</td><td>Aussie Miracle Moist Shampoo Conditioner Deep Conditioner Set Paraben Free for Dry Hair Types</td><td>USD</td><td>null</td><td>none</td><td>scheduler_on_VM</td><td>8</td><td>2025</td><td>abfss://raw@sa02flexflowdcom01prod.dfs.core.windows.net/schedule/xbyte/walmart/scheduler_on_VM/3eec335c-11e6-4497-8fbe-754d0f84d148/keyword_search/2025/08/ab219ef7-b37a-470b-ba1a-db8666d221a7_20250808_11-59-17.json</td><td>2025-08-08 11:59:18</td><td>2025-08-08 12:07:47.817000</td><td>null</td><td>2025-08-08 17:36:25.721487</td></tr><tr><td>Walmart</td><td>NA</td><td>US</td><td>US</td><td>95829</td><td>2025-08-08 11:59:16.066951</td><td>aussie shampoo and conditioner</td><td>organic</td><td>mobile-app</td><td>null</td><td>19</td><td>NA</td><td>5812442337</td><td>24.7</td><td>3.0</td><td>NA</td><td>https://www.walmart.com/ip/Aussie-Multi-Miracle-Shampoo-and-Conditioner-Moisture-Softness-Shine-33-8-Fl-Oz-2-Pk/5812442337?classType=REGULAR</td><td>https://i5.walmartimages.com/seo/Aussie-Multi-Miracle-Shampoo-and-Conditioner-Moisture-Softness-Shine-33-8-Fl-Oz-2-Pk_8b044a35-c356-4828-984a-7f6d46f045a2.babb7eaaa2934b1135f33d614b256f1b.jpeg?odnHeight=1500&amp;odnWidth=1500&amp;odnBg=ffffff</td><td>null</td><td>2025-08-08</td><td>11:59:16 AM</td><td>xbyte</td><td>True</td><td>False</td><td>ab219ef7-b37a-470b-ba1a-db8666d221a7_20250808_11-59-17.json</td><td>Aussie Multi Miracle Shampoo and Conditioner Moisture Softness Shine 338 Fl Oz 2 Pk</td><td>USD</td><td>null</td><td>none</td><td>scheduler_on_VM</td><td>8</td><td>2025</td><td>abfss://raw@sa02flexflowdcom01prod.dfs.core.windows.net/schedule/xbyte/walmart/scheduler_on_VM/3eec335c-11e6-4497-8fbe-754d0f84d148/keyword_search/2025/08/ab219ef7-b37a-470b-ba1a-db8666d221a7_20250808_11-59-17.json</td><td>2025-08-08 11:59:18</td><td>2025-08-08 12:07:47.817000</td><td>null</td><td>2025-08-08 17:36:25.721487</td></tr><tr><td>Walmart</td><td>NA</td><td>US</td><td>US</td><td>95829</td><td>2025-08-08 11:59:16.066966</td><td>aussie shampoo and conditioner</td><td>organic</td><td>mobile-app</td><td>null</td><td>20</td><td>NA</td><td>16417865851</td><td>25.0</td><td>null</td><td>NA</td><td>https://www.walmart.com/ip/Aussie-Total-Miracle-7-Benefit-Shampoo-And-Conditioner-Set-With-Apricot-Oil-12-1-fl-oz-each/16417865851?classType=REGULAR</td><td>https://i5.walmartimages.com/seo/Aussie-Total-Miracle-7-Benefit-Shampoo-And-Conditioner-Set-With-Apricot-Oil-12-1-fl-oz-each_eae9de7a-6aea-4415-88c4-677ba5676549.9e972d0126053c459cc09d5664937305.jpeg?odnHeight=1500&amp;odnWidth=1500&amp;odnBg=ffffff</td><td>null</td><td>2025-08-08</td><td>11:59:16 AM</td><td>xbyte</td><td>True</td><td>False</td><td>ab219ef7-b37a-470b-ba1a-db8666d221a7_20250808_11-59-17.json</td><td>Aussie Total Miracle 7 Benefit Shampoo And Conditioner Set With Apricot Oil 121 fl oz each</td><td>USD</td><td>null</td><td>none</td><td>scheduler_on_VM</td><td>8</td><td>2025</td><td>abfss://raw@sa02flexflowdcom01prod.dfs.core.windows.net/schedule/xbyte/walmart/scheduler_on_VM/3eec335c-11e6-4497-8fbe-754d0f84d148/keyword_search/2025/08/ab219ef7-b37a-470b-ba1a-db8666d221a7_20250808_11-59-17.json</td><td>2025-08-08 11:59:18</td><td>2025-08-08 12:07:47.817000</td><td>null</td><td>2025-08-08 17:36:25.721487</td></tr></table>"
      ],
      "text/plain": [
       "<IPython.core.display.HTML object>"
      ]
     },
     "execution_count": 14,
     "metadata": {},
     "output_type": "execute_result"
    }
   ],
   "source": [
    "%%sparksql\n",
    "SELECT * FROM data_file1 limit 2\n"
   ]
  },
  {
   "cell_type": "code",
   "execution_count": null,
   "metadata": {},
   "outputs": [],
   "source": [
    "# kursy_walut_xml = \"https://static.nbp.pl/dane/kursy/xml/a045z240304.xml\"  # https://static.nbp.pl/dane/kursy/Archiwum/archiwum_tab_a_2024.csv\n",
    "# kursy_walut_csv = {\n",
    "#     \"2020\": \"https://static.nbp.pl/dane/kursy/Archiwum/archiwum_tab_a_2020.csv\",\n",
    "#     \"2021\": \"https://static.nbp.pl/dane/kursy/Archiwum/archiwum_tab_a_2021.csv\",\n",
    "#     \"2022\": \"https://static.nbp.pl/dane/kursy/Archiwum/archiwum_tab_a_2022.csv\",\n",
    "#     \"2023\": \"https://static.nbp.pl/dane/kursy/Archiwum/archiwum_tab_a_2023.csv\",\n",
    "#     \"2024\": \"https://static.nbp.pl/dane/kursy/Archiwum/archiwum_tab_a_2024.csv\",\n",
    "# }"
   ]
  },
  {
   "cell_type": "code",
   "execution_count": null,
   "metadata": {},
   "outputs": [],
   "source": [
    "def nic():\n",
    "    # url = kursy_walut_csv[\"2024\"]\n",
    "    # s = requests.get(url).content\n",
    "    # # pd_kursy = pd.read_csv(url, encoding='cp1250'   )\n",
    "    # kursy = pd.read_csv(url, sep=\";\", encoding=\"cp1250\", index_col=\"data\")\n",
    "    # pd_kursy = pd.read_csv(\n",
    "    #     kursy_walut_csv[\"2024\"], sep=\";\", encoding=\"cp1250\", index_col=\"data\"\n",
    "    # )\n",
    "    # unzip_files = [\n",
    "    #     \"2015.zip\",\n",
    "    #     \"2016.zip\",\n",
    "    #     \"2017.zip\",\n",
    "    #     \"2019.zip\",\n",
    "    #     \"detroit_911_calls.zip\",\n",
    "    #     \"malaysia_covid_cases.zip\",\n",
    "    # ]\n",
    "    # state_path = 'DATA/MATURY'\n",
    "    # unzip_files2 = [ item for item in os.listdir(state_path) if item.endswith('.zip')]\n",
    "    # print( unzip_files2 )\n",
    "    # #################\n",
    "    # def unzip_file(file_to_unzip):\n",
    "    #     print(file_to_unzip.split(\".\"))\n",
    "    #     with zipfile.ZipFile(file_to_unzip, \"r\") as file:\n",
    "    #         file.extractall(file_to_unzip.split(\".\")[0])\n",
    "    # ###################\n",
    "    # # for item in unzip_files2:\n",
    "    # #     item = os.path.join(state_path, item )\n",
    "    # #     print( item )\n",
    "    # #     unzip_file( item )\n",
    "\n",
    "    # ###################\n",
    "    # files_to_proceed = ['marki.txt','perfumy.txt','sklad.txt']\n",
    "    # paths_to_proceed = ['DATA/MATURY/informatyka-2019-maj-matura-rozszerzona-zalaczniki/Dane_PR']\n",
    "    # ###################\n",
    "    # marki =  os.path.join(paths_to_proceed[0], files_to_proceed[0])\n",
    "    # perfumy =  os.path.join(paths_to_proceed[0], files_to_proceed[1])\n",
    "    # sklad =  os.path.join(paths_to_proceed[0], files_to_proceed[2])\n",
    "    # print( marki )\n",
    "    # print( perfumy )\n",
    "    # print( sklad )\n",
    "    # data_marki = (\n",
    "    #     spark.read.format(\"csv\")\n",
    "    #     .option(\"inferSchema\", \"true\")\n",
    "    #     .option(\"header\", \"true\")\n",
    "    #     .option(\"sep\", \"\\t\")\n",
    "    #     .load(marki)\n",
    "    # )\n",
    "    # data_perfumy = (\n",
    "    #     spark.read.format(\"csv\")\n",
    "    #     .option(\"inferSchema\", \"true\")\n",
    "    #     .option(\"header\", \"true\")\n",
    "    #     .option(\"sep\", \"\\t\")\n",
    "    #     .load(perfumy)\n",
    "    # )\n",
    "    # data_sklad = (\n",
    "    #     spark.read.format(\"csv\")\n",
    "    #     .option(\"inferSchema\", \"true\")\n",
    "    #     .option(\"header\", \"true\")\n",
    "    #     .option(\"sep\", \"\\t\")\n",
    "    #     .load(sklad)\n",
    "    # )\n",
    "    # # data_marki = (\n",
    "    # #     spark.read.text(file1)\n",
    "    # # )\n",
    "    # ###################\n",
    "    # data_marki.show(5)\n",
    "    # ###################\n",
    "    # data_marki.createOrReplaceTempView(\"marki\")\n",
    "    # data_perfumy.createOrReplaceTempView(\"perfumy\")\n",
    "    # data_sklad.createOrReplaceTempView(\"sklad\")\n",
    "    # spark.sql(\"select * from marki\").show(5)\n",
    "    # spark.sql(\"select * from perfumy\").show(5)\n",
    "    # spark.sql(\"select * from sklad\").show(5)\n",
    "    # ###################\n",
    "    # #Podaj listę wszystkich nazw perfum, których jednym ze składników jest „absolut jasminu”.\n",
    "    # spark.sql('select * from perfumy where id_perfum in  (select id_perfum from sklad where nazwa_skladnika = \"absolut jasminu\")').show()\n",
    "    # ###################\n",
    "    # # Podaj  listę  różnych  rodzin  zapachów.  Dla  każdej  rodziny  podaj  jej  nazwę,  cenę  najtańszych\n",
    "    # # perfum z tej rodziny i ich nazwę.  Więcej arkuszy znajdziesz na stronie: arkusze.pl\n",
    "    # spark.sql('select rodzina_zapachow , count(*) from perfumy group by rodzina_zapachow' ).show()\n",
    "    # spark.sql('select rodzina_zapachow , min(cena) as minimum from perfumy group by rodzina_zapachow order by minimum ' ).show()\n",
    "    # ###################\n",
    "    # marki = (\n",
    "    #     spark\n",
    "    #     .table(\"marki\")\n",
    "    # )\n",
    "    # perfumy = (\n",
    "    #     spark\n",
    "    #     .table(\"perfumy\")\n",
    "    # )\n",
    "    # sklad = (\n",
    "    #     spark\n",
    "    #     .table(\"sklad\")\n",
    "    # )\n",
    "    # marki.show(5)\n",
    "    # perfumy.show(5)\n",
    "    # sklad.show(5)\n",
    "    # sklad_absolut = (\n",
    "    #     spark\n",
    "    #     .table(\"sklad\")\n",
    "    #     .select(\"id_perfum\")\n",
    "    #     .where(\"nazwa_skladnika = 'absolut jasminu'\")\n",
    "    #     .orderBy(\"id_perfum\", ascending=False)\n",
    "    # )\n",
    "    # sklad_absolut.show(5)\n",
    "    # sklad_absolut.collect()\n",
    "    # print( sklad_absolut)\n",
    "    # perfumy_absolut = perfumy.join(sklad_absolut, on='id_perfum', how='inner')\n",
    "    # perfumy_absolut.show()\n",
    "    # ###################\n",
    "    # data = (\n",
    "    #     spark.read.format(\"csv\")\n",
    "    #     .option(\"inferSchema\", \"true\")\n",
    "    #     .option(\"header\", \"true\")\n",
    "    #     .load(\"Wyniki.txt\")\n",
    "    # )\n",
    "    # # df = spark.read.csv(\"Wyniki.txt\")\n",
    "    # ###################\n",
    "    # data.printSchema()\n",
    "    # #####################\n",
    "    # data2.createOrReplaceTempView(\"data\")\n",
    "    # spark.sql(\n",
    "    #     \"\"\"\n",
    "    #         SELECT *\n",
    "    #         FROM data\n",
    "    #         WHERE Punkty > 17\n",
    "    #         \"\"\"\n",
    "    # ).show()\n",
    "    # #####################\n",
    "    # df = spark.read.format(\"csv\").option(\"header\", \"true\").load(\"orders/2019.csv\")\n",
    "    # #####################\n",
    "    # orderSchema = StructType(\n",
    "    #     [\n",
    "    #         StructField(\"SalesOrderNumber\", StringType()),\n",
    "    #         StructField(\"SalesOrderLineNumber\", IntegerType()),\n",
    "    #         StructField(\"OrderDate\", DateType()),\n",
    "    #         StructField(\"CustomerName\", StringType()),\n",
    "    #         StructField(\"Email\", StringType()),\n",
    "    #         StructField(\"Item\", StringType()),\n",
    "    #         StructField(\"Quantity\", IntegerType()),\n",
    "    #         StructField(\"UnitPrice\", FloatType()),\n",
    "    #         StructField(\"Tax\", FloatType()),\n",
    "    #     ]\n",
    "    # )\n",
    "    # #####################\n",
    "    # dfx = spark.read.load(\n",
    "    #     \"/home/radek/git_projekty/sparkTraining/datafabrictraining/Files/partitioned_data\",\n",
    "    #     format=\"parquet\",\n",
    "    # )\n",
    "    # #####################\n",
    "    # ## Create Year and Month columns\n",
    "    # transformed_df = dfall.withColumn(\"Year\", year(col(\"OrderDate\"))).withColumn(\n",
    "    #     \"Month\", month(col(\"OrderDate\"))\n",
    "    # )\n",
    "\n",
    "    # # Create the new FirstName and LastName fields\n",
    "    # transformed_df = transformed_df.withColumn(\n",
    "    #     \"FirstName\", split(col(\"CustomerName\"), \" \").getItem(0)\n",
    "    # ).withColumn(\"LastName\", split(col(\"CustomerName\"), \" \").getItem(1))\n",
    "\n",
    "    # # Filter and reorder columns\n",
    "    # transformed_df = transformed_df[\n",
    "    #     \"SalesOrderNumber\",\n",
    "    #     \"SalesOrderLineNumber\",\n",
    "    #     \"OrderDate\",\n",
    "    #     \"Year\",\n",
    "    #     \"Month\",\n",
    "    #     \"FirstName\",\n",
    "    #     \"LastName\",\n",
    "    #     \"Email\",\n",
    "    #     \"Item\",\n",
    "    #     \"Quantity\",\n",
    "    #     \"UnitPrice\",\n",
    "    #     \"Tax\",\n",
    "    # ]\n",
    "\n",
    "    # # Display the first five orders\n",
    "    # display(transformed_df.limit(5))\n",
    "    # transformed_df.show(5)\n",
    "    # #####################\n",
    "    pass"
   ]
  },
  {
   "cell_type": "markdown",
   "metadata": {},
   "source": [
    "Save the transformed data\n",
    "Add a new cell with the following code to save the transformed dataframe in Parquet format (Overwriting the data if it already exists):"
   ]
  },
  {
   "cell_type": "markdown",
   "metadata": {},
   "source": [
    "# Save data in partitioned files\n",
    "# Add a new cell with the following code; which saves the dataframe, partitioning the data by Year and Month:\n",
    "\n",
    "````\n",
    "orders_df.write.partitionBy(\"Year\",\"Month\").mode(\"overwrite\").parquet(\"Files/partitioned_data\")\n",
    "print (\"Transf"
   ]
  },
  {
   "cell_type": "code",
   "execution_count": 35,
   "metadata": {},
   "outputs": [],
   "source": [
    "# %load_ext sparksql_magic\n",
    "# %config SparkSql.max_num_rows=20"
   ]
  },
  {
   "cell_type": "code",
   "execution_count": 47,
   "metadata": {},
   "outputs": [],
   "source": [
    "# Assuming you have a DataFrame called 'df'\n",
    "dfall.createOrReplaceTempView(\"my_temp_view\")\n",
    "transformed_df.createOrReplaceTempView(\"my_temp_view2\")"
   ]
  },
  {
   "cell_type": "code",
   "execution_count": 48,
   "metadata": {},
   "outputs": [
    {
     "name": "stdout",
     "output_type": "stream",
     "text": [
      "+----------------+--------------------+----------+--------------+--------------------+--------------------+--------+---------+--------+\n",
      "|SalesOrderNumber|SalesOrderLineNumber| OrderDate|  CustomerName|               Email|                Item|Quantity|UnitPrice|     Tax|\n",
      "+----------------+--------------------+----------+--------------+--------------------+--------------------+--------+---------+--------+\n",
      "|         SO49171|                   1|2021-01-01| Mariah Foster|mariah21@adventur...|  Road-250 Black, 48|       1|2181.5625| 174.525|\n",
      "|         SO49172|                   1|2021-01-01|  Brian Howard|brian23@adventure...|    Road-250 Red, 44|       1|  2443.35| 195.468|\n",
      "|         SO49173|                   1|2021-01-01| Linda Alvarez|linda19@adventure...|Mountain-200 Silv...|       1|2071.4197|165.7136|\n",
      "|         SO49174|                   1|2021-01-01|Gina Hernandez|gina4@adventure-w...|Mountain-200 Silv...|       1|2071.4197|165.7136|\n",
      "|         SO49178|                   1|2021-01-01|     Beth Ruiz|beth4@adventure-w...|Road-550-W Yellow...|       1|1000.4375|  80.035|\n",
      "+----------------+--------------------+----------+--------------+--------------------+--------------------+--------+---------+--------+\n",
      "only showing top 5 rows\n",
      "\n"
     ]
    }
   ],
   "source": [
    "# Now you can query the view using Spark SQL\n",
    "spark.sql(\"SELECT * FROM my_temp_view\").show(5)"
   ]
  },
  {
   "cell_type": "code",
   "execution_count": null,
   "metadata": {},
   "outputs": [
    {
     "data": {
      "text/html": [
       "<table><tr style=\"border-bottom: 1px solid\"><td style=\"font-weight: bold\">SalesOrderNumber</td><td style=\"font-weight: bold\">SalesOrderLineNumber</td><td style=\"font-weight: bold\">OrderDate</td><td style=\"font-weight: bold\">CustomerName</td><td style=\"font-weight: bold\">Email</td><td style=\"font-weight: bold\">Item</td><td style=\"font-weight: bold\">Quantity</td><td style=\"font-weight: bold\">UnitPrice</td><td style=\"font-weight: bold\">Tax</td></tr><tr><td>SO49171</td><td>1</td><td>2021-01-01</td><td>Mariah Foster</td><td>mariah21@adventure-works.com</td><td>Road-250 Black, 48</td><td>1</td><td>2181.5625</td><td>174.52499389648438</td></tr><tr><td>SO49172</td><td>1</td><td>2021-01-01</td><td>Brian Howard</td><td>brian23@adventure-works.com</td><td>Road-250 Red, 44</td><td>1</td><td>2443.35009765625</td><td>195.46800231933594</td></tr><tr><td>SO49173</td><td>1</td><td>2021-01-01</td><td>Linda Alvarez</td><td>linda19@adventure-works.com</td><td>Mountain-200 Silver, 38</td><td>1</td><td>2071.419677734375</td><td>165.71359252929688</td></tr><tr><td>SO49174</td><td>1</td><td>2021-01-01</td><td>Gina Hernandez</td><td>gina4@adventure-works.com</td><td>Mountain-200 Silver, 42</td><td>1</td><td>2071.419677734375</td><td>165.71359252929688</td></tr><tr><td>SO49178</td><td>1</td><td>2021-01-01</td><td>Beth Ruiz</td><td>beth4@adventure-works.com</td><td>Road-550-W Yellow, 44</td><td>1</td><td>1000.4375</td><td>80.03500366210938</td></tr></table>"
      ],
      "text/plain": [
       "<IPython.core.display.HTML object>"
      ]
     },
     "execution_count": 49,
     "metadata": {},
     "output_type": "execute_result"
    }
   ],
   "source": [
    "%%sparksql\n",
    "SELECT * FROM my_temp_view LIMIT 5"
   ]
  },
  {
   "cell_type": "code",
   "execution_count": null,
   "metadata": {},
   "outputs": [
    {
     "name": "stderr",
     "output_type": "stream",
     "text": [
      "24/03/26 09:07:27 WARN CharVarcharUtils: The Spark cast operator does not support char/varchar type and simply treats them as string type. Please use string type directly to avoid confusion. Otherwise, you can set spark.sql.legacy.charVarcharAsString to true, so that Spark treat them as string type as same as Spark 3.0 and earlier\n",
      "24/03/26 09:07:27 WARN CharVarcharUtils: The Spark cast operator does not support char/varchar type and simply treats them as string type. Please use string type directly to avoid confusion. Otherwise, you can set spark.sql.legacy.charVarcharAsString to true, so that Spark treat them as string type as same as Spark 3.0 and earlier\n"
     ]
    },
    {
     "name": "stdout",
     "output_type": "stream",
     "text": [
      "+---------+--------------------+\n",
      "|OrderYear|        GrossRevenue|\n",
      "+---------+--------------------+\n",
      "|     2019|   4172169.969970703|\n",
      "|     2020|   6882259.268127441|\n",
      "|     2021|1.1547835291696548E7|\n",
      "+---------+--------------------+\n",
      "\n"
     ]
    }
   ],
   "source": [
    "# sqlQuery = \"SELECT CAST(YEAR(OrderDate) AS CHAR(4)) AS OrderYear, \\\n",
    "#                 SUM((UnitPrice * Quantity) + Tax) AS GrossRevenue \\\n",
    "#             FROM my_temp_view2 \\\n",
    "#             GROUP BY CAST(YEAR(OrderDate) AS CHAR(4)) \\\n",
    "#             ORDER BY OrderYear\"\n",
    "# df_spark = spark.sql(sqlQuery)\n",
    "# df_spark.show()"
   ]
  },
  {
   "cell_type": "code",
   "execution_count": null,
   "metadata": {},
   "outputs": [],
   "source": [
    "# dfa = spark.read.format(\"csv\").option(\"header\", \"true\").load(\"products/products.csv\")"
   ]
  },
  {
   "cell_type": "code",
   "execution_count": null,
   "metadata": {},
   "outputs": [
    {
     "data": {
      "text/plain": [
       "DataFrame[ProductID: string, ProductName: string, Category: string, ListPrice: string]"
      ]
     },
     "metadata": {},
     "output_type": "display_data"
    },
    {
     "name": "stdout",
     "output_type": "stream",
     "text": [
      "+---------+--------------------+--------------+---------+\n",
      "|ProductID|         ProductName|      Category|ListPrice|\n",
      "+---------+--------------------+--------------+---------+\n",
      "|      771|Mountain-100 Silv...|Mountain Bikes|3399.9900|\n",
      "|      772|Mountain-100 Silv...|Mountain Bikes|3399.9900|\n",
      "|      773|Mountain-100 Silv...|Mountain Bikes|3399.9900|\n",
      "|      774|Mountain-100 Silv...|Mountain Bikes|3399.9900|\n",
      "|      775|Mountain-100 Blac...|Mountain Bikes|3374.9900|\n",
      "+---------+--------------------+--------------+---------+\n",
      "only showing top 5 rows\n",
      "\n"
     ]
    }
   ],
   "source": [
    "# display(dfa)\n",
    "# dfa.show(5)"
   ]
  },
  {
   "cell_type": "code",
   "execution_count": null,
   "metadata": {},
   "outputs": [],
   "source": [
    "# dfa.write.format(\"delta\").saveAsTable(\"dfa\")\n",
    "# dfa.write.format(\"delta\").saveAsTable(\"dfa\",path=\"products\")\n",
    "# dfa.write.format(\"delta\").saveAsTable(\"managed_products\")\n",
    "# dfa.createOrReplaceTempView(\"dfa\")"
   ]
  },
  {
   "cell_type": "code",
   "execution_count": null,
   "metadata": {},
   "outputs": [
    {
     "data": {
      "text/html": [
       "<table><tr style=\"border-bottom: 1px solid\"><td style=\"font-weight: bold\">col_name</td><td style=\"font-weight: bold\">data_type</td><td style=\"font-weight: bold\">comment</td></tr><tr><td>ProductID</td><td>string</td><td>null</td></tr><tr><td>ProductName</td><td>string</td><td>null</td></tr><tr><td>Category</td><td>string</td><td>null</td></tr><tr><td>ListPrice</td><td>string</td><td>null</td></tr></table>"
      ],
      "text/plain": [
       "<IPython.core.display.HTML object>"
      ]
     },
     "execution_count": 55,
     "metadata": {},
     "output_type": "execute_result"
    }
   ],
   "source": [
    "# %%sparksql\n",
    "# DESCRIBE FORMATTED dfa"
   ]
  },
  {
   "cell_type": "code",
   "execution_count": 57,
   "metadata": {},
   "outputs": [],
   "source": [
    "# spark.stop()"
   ]
  },
  {
   "cell_type": "code",
   "execution_count": 47,
   "metadata": {},
   "outputs": [],
   "source": [
    "# %%sparksql\n",
    "# UPDATE dfa\n",
    "# SET  ListPrice = ListPrice * 0.9\n",
    "# WHERE Category = 'Mountain Bikes';"
   ]
  },
  {
   "cell_type": "code",
   "execution_count": 48,
   "metadata": {},
   "outputs": [],
   "source": [
    "# %reload_ext Kqlmagic"
   ]
  },
  {
   "cell_type": "code",
   "execution_count": 74,
   "metadata": {},
   "outputs": [],
   "source": [
    "dfdimCustomer_silver.createOrReplaceTempView(\"dfdimCustomer_silver\")"
   ]
  },
  {
   "cell_type": "code",
   "execution_count": 75,
   "metadata": {},
   "outputs": [
    {
     "name": "stderr",
     "output_type": "stream",
     "text": [
      "24/03/26 09:15:04 WARN CSVHeaderChecker: CSV header does not conform to the schema.\n",
      " Header: Christy Zhu, christy12@adventure-works.com\n",
      " Schema: CustomerName, Email\n",
      "Expected: CustomerName but found: Christy Zhu\n",
      "CSV file: file:///home/radek/git_projekty/sparkTraining/2019.csv\n"
     ]
    },
    {
     "data": {
      "text/html": [
       "<table><tr style=\"border-bottom: 1px solid\"><td style=\"font-weight: bold\">CustomerName</td><td style=\"font-weight: bold\">Email</td><td style=\"font-weight: bold\">First</td><td style=\"font-weight: bold\">Last</td></tr><tr><td>Jonathon Gutierrez</td><td>jonathon8@adventure-works.com</td><td>Jonathon</td><td>Gutierrez</td></tr><tr><td>Blake Butler</td><td>blake62@adventure-works.com</td><td>Blake</td><td>Butler</td></tr><tr><td>Melissa Perry</td><td>melissa2@adventure-works.com</td><td>Melissa</td><td>Perry</td></tr><tr><td>Hailey James</td><td>hailey17@adventure-works.com</td><td>Hailey</td><td>James</td></tr><tr><td>Jasmine West</td><td>jasmine37@adventure-works.com</td><td>Jasmine</td><td>West</td></tr></table>"
      ],
      "text/plain": [
       "<IPython.core.display.HTML object>"
      ]
     },
     "execution_count": 75,
     "metadata": {},
     "output_type": "execute_result"
    }
   ],
   "source": [
    "%%sparksql\n",
    "select * from dfdimCustomer_silver limit 5;\n"
   ]
  },
  {
   "cell_type": "code",
   "execution_count": 77,
   "metadata": {},
   "outputs": [
    {
     "data": {
      "text/plain": [
       "DataFrame[ProductID: string, ProductName: string, Category: string, ListPrice: string]"
      ]
     },
     "metadata": {},
     "output_type": "display_data"
    }
   ],
   "source": [
    "# %pyspark\n",
    "df7 = spark.read.load(\"products.csv\", format=\"csv\", header=True)\n",
    "display(df7.limit(5))"
   ]
  },
  {
   "cell_type": "code",
   "execution_count": 101,
   "metadata": {},
   "outputs": [],
   "source": [
    "df8.createOrReplaceTempView(\"products\")"
   ]
  },
  {
   "cell_type": "code",
   "execution_count": 102,
   "metadata": {},
   "outputs": [
    {
     "data": {
      "text/html": [
       "<table><tr style=\"border-bottom: 1px solid\"><td style=\"font-weight: bold\">ProdID</td><td style=\"font-weight: bold\">ProdName</td><td style=\"font-weight: bold\">Category</td><td style=\"font-weight: bold\">ListPrice</td></tr><tr><td>null</td><td>ProductName</td><td>Category</td><td>null</td></tr><tr><td>771</td><td>Mountain-100 Silver, 38</td><td>Mountain Bikes</td><td>3399.989990234375</td></tr><tr><td>772</td><td>Mountain-100 Silver, 42</td><td>Mountain Bikes</td><td>3399.989990234375</td></tr><tr><td>773</td><td>Mountain-100 Silver, 44</td><td>Mountain Bikes</td><td>3399.989990234375</td></tr><tr><td>774</td><td>Mountain-100 Silver, 48</td><td>Mountain Bikes</td><td>3399.989990234375</td></tr><tr><td>775</td><td>Mountain-100 Black, 38</td><td>Mountain Bikes</td><td>3374.989990234375</td></tr><tr><td>776</td><td>Mountain-100 Black, 42</td><td>Mountain Bikes</td><td>3374.989990234375</td></tr><tr><td>777</td><td>Mountain-100 Black, 44</td><td>Mountain Bikes</td><td>3374.989990234375</td></tr><tr><td>778</td><td>Mountain-100 Black, 48</td><td>Mountain Bikes</td><td>3374.989990234375</td></tr><tr><td>779</td><td>Mountain-200 Silver, 38</td><td>Mountain Bikes</td><td>2319.989990234375</td></tr></table>"
      ],
      "text/plain": [
       "<IPython.core.display.HTML object>"
      ]
     },
     "execution_count": 102,
     "metadata": {},
     "output_type": "execute_result"
    }
   ],
   "source": [
    "%%sparksql\n",
    "select * from products limit 10;"
   ]
  },
  {
   "cell_type": "markdown",
   "metadata": {},
   "source": []
  }
 ],
 "metadata": {
  "kernelspec": {
   "display_name": ".venv (3.11.11)",
   "language": "python",
   "name": "python3"
  },
  "language_info": {
   "codemirror_mode": {
    "name": "ipython",
    "version": 3
   },
   "file_extension": ".py",
   "mimetype": "text/x-python",
   "name": "python",
   "nbconvert_exporter": "python",
   "pygments_lexer": "ipython3",
   "version": "3.11.11"
  }
 },
 "nbformat": 4,
 "nbformat_minor": 2
}
