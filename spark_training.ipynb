{
 "cells": [
  {
   "cell_type": "code",
   "execution_count": 2,
   "metadata": {},
   "outputs": [],
   "source": [
    "# SPARK SESSIONS"
   ]
  },
  {
   "cell_type": "code",
   "execution_count": 1,
   "metadata": {},
   "outputs": [],
   "source": [
    "from pyspark.sql import SparkSession\n",
    "from pyspark.sql.functions import col, desc\n",
    "from pyspark.sql.functions import monotonically_increasing_id\n",
    "from pyspark.sql.functions import *\n",
    "from pyspark.sql.types import *\n",
    "from delta.tables import *\n",
    "from pyspark.sql.functions import col, dayofmonth, month, year, date_format\n",
    "import findspark\n",
    "import zipfile\n",
    "import os\n",
    "from pyspark.sql.functions import when, lit, col, current_timestamp, input_file_name\n",
    "import pandas as pd\n",
    "import requests"
   ]
  },
  {
   "cell_type": "code",
   "execution_count": 20,
   "metadata": {},
   "outputs": [
    {
     "name": "stdout",
     "output_type": "stream",
     "text": [
      "The sparksql_magic extension is already loaded. To reload it, use:\n",
      "  %reload_ext sparksql_magic\n"
     ]
    },
    {
     "name": "stderr",
     "output_type": "stream",
     "text": [
      "/home/radek/git_projekty/sparkTraining/.venv/lib/python3.12/site-packages/IPython/core/interactiveshell.py:3493: UserWarning: Config option `max_num_rows` not recognized by `SparkSql`.\n",
      "  if await self.run_code(code, result, async_=asy):\n"
     ]
    }
   ],
   "source": [
    "findspark.init()\n",
    "spark = SparkSession.builder.appName(\"sparksql\").getOrCreate()\n",
    "%load_ext sparksql_magic\n",
    "%config SparkSql.max_num_rows=20"
   ]
  },
  {
   "cell_type": "code",
   "execution_count": 14,
   "metadata": {},
   "outputs": [],
   "source": [
    "kursy_walut_xml = \"https://static.nbp.pl/dane/kursy/xml/a045z240304.xml\"  # https://static.nbp.pl/dane/kursy/Archiwum/archiwum_tab_a_2024.csv"
   ]
  },
  {
   "cell_type": "code",
   "execution_count": 15,
   "metadata": {},
   "outputs": [],
   "source": [
    "kursy_walut_csv = {\n",
    "    \"2020\": \"https://static.nbp.pl/dane/kursy/Archiwum/archiwum_tab_a_2020.csv\",\n",
    "    \"2021\": \"https://static.nbp.pl/dane/kursy/Archiwum/archiwum_tab_a_2021.csv\",\n",
    "    \"2022\": \"https://static.nbp.pl/dane/kursy/Archiwum/archiwum_tab_a_2022.csv\",\n",
    "    \"2023\": \"https://static.nbp.pl/dane/kursy/Archiwum/archiwum_tab_a_2023.csv\",\n",
    "    \"2024\": \"https://static.nbp.pl/dane/kursy/Archiwum/archiwum_tab_a_2024.csv\",\n",
    "}"
   ]
  },
  {
   "cell_type": "code",
   "execution_count": 16,
   "metadata": {},
   "outputs": [],
   "source": [
    "url = kursy_walut_csv[\"2024\"]\n",
    "s = requests.get(url).content"
   ]
  },
  {
   "cell_type": "code",
   "execution_count": 17,
   "metadata": {},
   "outputs": [],
   "source": [
    "# pd_kursy = pd.read_csv(url, encoding='cp1250'   )\n",
    "kursy = pd.read_csv(url, sep=\";\", encoding=\"cp1250\", index_col=\"data\")"
   ]
  },
  {
   "cell_type": "code",
   "execution_count": 18,
   "metadata": {},
   "outputs": [],
   "source": [
    "pd_kursy = pd.read_csv(\n",
    "    kursy_walut_csv[\"2024\"], sep=\";\", encoding=\"cp1250\", index_col=\"data\"\n",
    ")"
   ]
  },
  {
   "cell_type": "code",
   "execution_count": 4,
   "metadata": {},
   "outputs": [],
   "source": [
    "unzip_files = [\n",
    "    \"2015.zip\",\n",
    "    \"2016.zip\",\n",
    "    \"2017.zip\",\n",
    "    \"2019.zip\",\n",
    "    \"detroit_911_calls.zip\",\n",
    "    \"malaysia_covid_cases.zip\",\n",
    "]\n",
    "state_path = 'DATA/MATURY'\n",
    "unzip_files2 = [ item for item in os.listdir(state_path) if item.endswith('.zip')]"
   ]
  },
  {
   "cell_type": "code",
   "execution_count": 5,
   "metadata": {},
   "outputs": [
    {
     "name": "stdout",
     "output_type": "stream",
     "text": [
      "['informatyka-2023-maj-matura-rozszerzona-zalaczniki.zip', 'informatyka-2023-maj-matura-stara-rozszerzona-zalaczniki.zip', 'informatyka-2020-kwiecien-probna-rozszerzona-zalaczniki.zip', 'informatyka-2022-maj-matura-rozszerzona-zalaczniki.zip', 'informatyka-2021-marzec-probna-rozszerzona-zalaczniki.zip', 'informatyka-2019-maj-matura-rozszerzona-zalaczniki.zip', 'informatyka-2020-operon-probna-rozszerzona-zalaczniki.zip', 'informatyka-2019-maj-matura-stara-rozszerzona-zalaczniki.zip']\n"
     ]
    }
   ],
   "source": [
    "print( unzip_files2 )"
   ]
  },
  {
   "cell_type": "code",
   "execution_count": 7,
   "metadata": {},
   "outputs": [],
   "source": [
    "def unzip_file(file_to_unzip):\n",
    "    print(file_to_unzip.split(\".\"))\n",
    "    with zipfile.ZipFile(file_to_unzip, \"r\") as file:\n",
    "        file.extractall(file_to_unzip.split(\".\")[0])"
   ]
  },
  {
   "cell_type": "code",
   "execution_count": 11,
   "metadata": {},
   "outputs": [
    {
     "name": "stdout",
     "output_type": "stream",
     "text": [
      "DATA/MATURY/informatyka-2023-maj-matura-rozszerzona-zalaczniki.zip\n",
      "['DATA/MATURY/informatyka-2023-maj-matura-rozszerzona-zalaczniki', 'zip']\n",
      "DATA/MATURY/informatyka-2023-maj-matura-stara-rozszerzona-zalaczniki.zip\n",
      "['DATA/MATURY/informatyka-2023-maj-matura-stara-rozszerzona-zalaczniki', 'zip']\n",
      "DATA/MATURY/informatyka-2020-kwiecien-probna-rozszerzona-zalaczniki.zip\n",
      "['DATA/MATURY/informatyka-2020-kwiecien-probna-rozszerzona-zalaczniki', 'zip']\n",
      "DATA/MATURY/informatyka-2022-maj-matura-rozszerzona-zalaczniki.zip\n",
      "['DATA/MATURY/informatyka-2022-maj-matura-rozszerzona-zalaczniki', 'zip']\n",
      "DATA/MATURY/informatyka-2021-marzec-probna-rozszerzona-zalaczniki.zip\n",
      "['DATA/MATURY/informatyka-2021-marzec-probna-rozszerzona-zalaczniki', 'zip']\n",
      "DATA/MATURY/informatyka-2019-maj-matura-rozszerzona-zalaczniki.zip\n",
      "['DATA/MATURY/informatyka-2019-maj-matura-rozszerzona-zalaczniki', 'zip']\n",
      "DATA/MATURY/informatyka-2020-operon-probna-rozszerzona-zalaczniki.zip\n",
      "['DATA/MATURY/informatyka-2020-operon-probna-rozszerzona-zalaczniki', 'zip']\n",
      "DATA/MATURY/informatyka-2019-maj-matura-stara-rozszerzona-zalaczniki.zip\n",
      "['DATA/MATURY/informatyka-2019-maj-matura-stara-rozszerzona-zalaczniki', 'zip']\n"
     ]
    }
   ],
   "source": [
    "# for item in unzip_files2:\n",
    "#     item = os.path.join(state_path, item )\n",
    "#     print( item )\n",
    "#     unzip_file( item )"
   ]
  },
  {
   "cell_type": "code",
   "execution_count": 28,
   "metadata": {},
   "outputs": [],
   "source": [
    "files_to_proceed = ['marki.txt','perfumy.txt','sklad.txt']\n",
    "paths_to_proceed = ['DATA/MATURY/informatyka-2019-maj-matura-rozszerzona-zalaczniki/Dane_PR']"
   ]
  },
  {
   "cell_type": "code",
   "execution_count": 51,
   "metadata": {},
   "outputs": [
    {
     "name": "stdout",
     "output_type": "stream",
     "text": [
      "DATA/MATURY/informatyka-2019-maj-matura-rozszerzona-zalaczniki/Dane_PR/marki.txt\n",
      "DATA/MATURY/informatyka-2019-maj-matura-rozszerzona-zalaczniki/Dane_PR/perfumy.txt\n",
      "DATA/MATURY/informatyka-2019-maj-matura-rozszerzona-zalaczniki/Dane_PR/sklad.txt\n"
     ]
    }
   ],
   "source": [
    "marki =  os.path.join(paths_to_proceed[0], files_to_proceed[0])\n",
    "perfumy =  os.path.join(paths_to_proceed[0], files_to_proceed[1])\n",
    "sklad =  os.path.join(paths_to_proceed[0], files_to_proceed[2])\n",
    "print( marki )\n",
    "print( perfumy )\n",
    "print( sklad )\n",
    "data_marki = (\n",
    "    spark.read.format(\"csv\")\n",
    "    .option(\"inferSchema\", \"true\")\n",
    "    .option(\"header\", \"true\")\n",
    "    .option(\"sep\", \"\\t\")\n",
    "    .load(marki)\n",
    ")\n",
    "data_perfumy = (\n",
    "    spark.read.format(\"csv\")\n",
    "    .option(\"inferSchema\", \"true\")\n",
    "    .option(\"header\", \"true\")\n",
    "    .option(\"sep\", \"\\t\")\n",
    "    .load(perfumy)\n",
    ")\n",
    "data_sklad = (\n",
    "    spark.read.format(\"csv\")\n",
    "    .option(\"inferSchema\", \"true\")\n",
    "    .option(\"header\", \"true\")\n",
    "    .option(\"sep\", \"\\t\")\n",
    "    .load(sklad)\n",
    ")\n",
    "# data_marki = (\n",
    "#     spark.read.text(file1)\n",
    "# )"
   ]
  },
  {
   "cell_type": "code",
   "execution_count": 52,
   "metadata": {},
   "outputs": [
    {
     "name": "stdout",
     "output_type": "stream",
     "text": [
      "+--------+--------------+\n",
      "|id_marki|       nazwa_m|\n",
      "+--------+--------------+\n",
      "|     m_1| Mou De Rosine|\n",
      "|     m_2|       Mou&Bob|\n",
      "|     m_3|Nnick a Kieffo|\n",
      "|     m_4|    Telier age|\n",
      "|     m_5|    Telier ala|\n",
      "+--------+--------------+\n",
      "only showing top 5 rows\n",
      "\n"
     ]
    }
   ],
   "source": [
    "data_marki.show(5)"
   ]
  },
  {
   "cell_type": "code",
   "execution_count": 53,
   "metadata": {},
   "outputs": [
    {
     "name": "stdout",
     "output_type": "stream",
     "text": [
      "+--------+--------------+\n",
      "|id_marki|       nazwa_m|\n",
      "+--------+--------------+\n",
      "|     m_1| Mou De Rosine|\n",
      "|     m_2|       Mou&Bob|\n",
      "|     m_3|Nnick a Kieffo|\n",
      "|     m_4|    Telier age|\n",
      "|     m_5|    Telier ala|\n",
      "+--------+--------------+\n",
      "only showing top 5 rows\n",
      "\n",
      "+---------+-----------+--------+------------------+----+\n",
      "|id_perfum|    nazwa_p|id_marki|  rodzina_zapachow|cena|\n",
      "+---------+-----------+--------+------------------+----+\n",
      "|      p_1|      Ythde|     m_1|        orientalna| 241|\n",
      "|      p_2|     Ythsas|     m_1|          kwiatowa| 738|\n",
      "|      p_3|Elov & Musc|     m_1|orientalno-drzewna| 777|\n",
      "|      p_4|    Iel 7 7|     m_1|       aromatyczna| 327|\n",
      "|      p_5|Iel  A Doha|     m_1|          kwiatowa| 963|\n",
      "+---------+-----------+--------+------------------+----+\n",
      "only showing top 5 rows\n",
      "\n",
      "+---------+---------------+\n",
      "|id_perfum|nazwa_skladnika|\n",
      "+---------+---------------+\n",
      "|      p_1|    chryzantema|\n",
      "|      p_1|    kwiat irysa|\n",
      "|      p_2|         narcyz|\n",
      "|      p_2|  liscie fiolka|\n",
      "|      p_2|       galbanum|\n",
      "+---------+---------------+\n",
      "only showing top 5 rows\n",
      "\n"
     ]
    }
   ],
   "source": [
    "data_marki.createOrReplaceTempView(\"marki\")\n",
    "data_perfumy.createOrReplaceTempView(\"perfumy\")\n",
    "data_sklad.createOrReplaceTempView(\"sklad\")\n",
    "spark.sql(\"select * from marki\").show(5)\n",
    "spark.sql(\"select * from perfumy\").show(5)\n",
    "spark.sql(\"select * from sklad\").show(5)"
   ]
  },
  {
   "cell_type": "code",
   "execution_count": 64,
   "metadata": {},
   "outputs": [
    {
     "name": "stdout",
     "output_type": "stream",
     "text": [
      "+---------+-------------+--------+--------------------+----+\n",
      "|id_perfum|      nazwa_p|id_marki|    rodzina_zapachow|cena|\n",
      "+---------+-------------+--------+--------------------+----+\n",
      "|    p_130|Oyal Priather|    m_12|    kwiatowo-drzewna| 688|\n",
      "|    p_174| Ologne D'oud|    m_20|cytrusowo-aromaty...| 237|\n",
      "|    p_179|Uelques FleuE|    m_20|            kwiatowa| 510|\n",
      "+---------+-------------+--------+--------------------+----+\n",
      "\n"
     ]
    }
   ],
   "source": [
    "#Podaj listę wszystkich nazw perfum, których jednym ze składników jest „absolut jasminu”. \n",
    "spark.sql('select * from perfumy where id_perfum in  (select id_perfum from sklad where nazwa_skladnika = \"absolut jasminu\")').show()"
   ]
  },
  {
   "cell_type": "code",
   "execution_count": 67,
   "metadata": {},
   "outputs": [
    {
     "name": "stdout",
     "output_type": "stream",
     "text": [
      "+--------------------+--------+\n",
      "|    rodzina_zapachow|count(1)|\n",
      "+--------------------+--------+\n",
      "|            kwiatowa|      88|\n",
      "|             zielona|       5|\n",
      "|            szyprowa|      23|\n",
      "|           cytrusowa|      19|\n",
      "|             drzewna|      29|\n",
      "|            skorzana|      11|\n",
      "|   kwiatowo-szyprowa|       2|\n",
      "|  orientalna lagodna|      18|\n",
      "|  orientalno-drzewna|      82|\n",
      "|               wodna|       5|\n",
      "|             pudrowa|      13|\n",
      "|   szyprowo-skorzana|      10|\n",
      "|          orientalna|      64|\n",
      "|         aromatyczna|      44|\n",
      "| kwiatowo-orientalna|      66|\n",
      "|cytrusowo-aromaty...|       9|\n",
      "|             owocowa|       9|\n",
      "|    kwiatowo-drzewna|      18|\n",
      "+--------------------+--------+\n",
      "\n",
      "+--------------------+-------+\n",
      "|    rodzina_zapachow|minimum|\n",
      "+--------------------+-------+\n",
      "| kwiatowo-orientalna|    103|\n",
      "|    kwiatowo-drzewna|    104|\n",
      "|            kwiatowa|    110|\n",
      "|            skorzana|    112|\n",
      "|          orientalna|    113|\n",
      "|  orientalna lagodna|    122|\n",
      "|             drzewna|    123|\n",
      "|         aromatyczna|    124|\n",
      "|  orientalno-drzewna|    138|\n",
      "|             pudrowa|    139|\n",
      "|               wodna|    146|\n",
      "|             owocowa|    154|\n",
      "|   szyprowo-skorzana|    158|\n",
      "|cytrusowo-aromaty...|    178|\n",
      "|            szyprowa|    226|\n",
      "|           cytrusowa|    259|\n",
      "|   kwiatowo-szyprowa|    287|\n",
      "|             zielona|    406|\n",
      "+--------------------+-------+\n",
      "\n"
     ]
    }
   ],
   "source": [
    "# Podaj  listę  różnych  rodzin  zapachów.  Dla  każdej  rodziny  podaj  jej  nazwę,  cenę  najtańszych \n",
    "# perfum z tej rodziny i ich nazwę.  Więcej arkuszy znajdziesz na stronie: arkusze.pl\n",
    "spark.sql('select rodzina_zapachow , count(*) from perfumy group by rodzina_zapachow' ).show()\n",
    "spark.sql('select rodzina_zapachow , min(cena) as minimum from perfumy group by rodzina_zapachow order by minimum ' ).show()"
   ]
  },
  {
   "cell_type": "code",
   "execution_count": 93,
   "metadata": {},
   "outputs": [
    {
     "name": "stdout",
     "output_type": "stream",
     "text": [
      "+--------+--------------+\n",
      "|id_marki|       nazwa_m|\n",
      "+--------+--------------+\n",
      "|     m_1| Mou De Rosine|\n",
      "|     m_2|       Mou&Bob|\n",
      "|     m_3|Nnick a Kieffo|\n",
      "|     m_4|    Telier age|\n",
      "|     m_5|    Telier ala|\n",
      "+--------+--------------+\n",
      "only showing top 5 rows\n",
      "\n",
      "+---------+-----------+--------+------------------+----+\n",
      "|id_perfum|    nazwa_p|id_marki|  rodzina_zapachow|cena|\n",
      "+---------+-----------+--------+------------------+----+\n",
      "|      p_1|      Ythde|     m_1|        orientalna| 241|\n",
      "|      p_2|     Ythsas|     m_1|          kwiatowa| 738|\n",
      "|      p_3|Elov & Musc|     m_1|orientalno-drzewna| 777|\n",
      "|      p_4|    Iel 7 7|     m_1|       aromatyczna| 327|\n",
      "|      p_5|Iel  A Doha|     m_1|          kwiatowa| 963|\n",
      "+---------+-----------+--------+------------------+----+\n",
      "only showing top 5 rows\n",
      "\n",
      "+---------+---------------+\n",
      "|id_perfum|nazwa_skladnika|\n",
      "+---------+---------------+\n",
      "|      p_1|    chryzantema|\n",
      "|      p_1|    kwiat irysa|\n",
      "|      p_2|         narcyz|\n",
      "|      p_2|  liscie fiolka|\n",
      "|      p_2|       galbanum|\n",
      "+---------+---------------+\n",
      "only showing top 5 rows\n",
      "\n",
      "+---------+\n",
      "|id_perfum|\n",
      "+---------+\n",
      "|    p_179|\n",
      "|    p_174|\n",
      "|    p_130|\n",
      "+---------+\n",
      "\n",
      "DataFrame[id_perfum: string]\n",
      "+---------+-------------+--------+--------------------+----+\n",
      "|id_perfum|      nazwa_p|id_marki|    rodzina_zapachow|cena|\n",
      "+---------+-------------+--------+--------------------+----+\n",
      "|    p_130|Oyal Priather|    m_12|    kwiatowo-drzewna| 688|\n",
      "|    p_174| Ologne D'oud|    m_20|cytrusowo-aromaty...| 237|\n",
      "|    p_179|Uelques FleuE|    m_20|            kwiatowa| 510|\n",
      "+---------+-------------+--------+--------------------+----+\n",
      "\n"
     ]
    }
   ],
   "source": [
    "marki = (\n",
    "    spark\n",
    "    .table(\"marki\")\n",
    ")\n",
    "perfumy = (\n",
    "    spark\n",
    "    .table(\"perfumy\")\n",
    ")\n",
    "sklad = (\n",
    "    spark\n",
    "    .table(\"sklad\")\n",
    ")\n",
    "marki.show(5)\n",
    "perfumy.show(5)\n",
    "sklad.show(5)\n",
    "sklad_absolut = (\n",
    "    spark\n",
    "    .table(\"sklad\")\n",
    "    .select(\"id_perfum\")\n",
    "    .where(\"nazwa_skladnika = 'absolut jasminu'\")\n",
    "    .orderBy(\"id_perfum\", ascending=False)\n",
    ")\n",
    "sklad_absolut.show(5)\n",
    "sklad_absolut.collect()\n",
    "print( sklad_absolut)\n",
    "perfumy_absolut = perfumy.join(sklad_absolut, on='id_perfum', how='inner')\n",
    "perfumy_absolut.show()"
   ]
  },
  {
   "cell_type": "code",
   "execution_count": 6,
   "metadata": {},
   "outputs": [],
   "source": [
    "# print( os.listdir(\"2015/Dane_PR2\"))\n",
    "# mat2015 = [  os.path.join(os.getcwd(),el) for el in os.listdir(\"2015/Dane_PR2\")  if el[0].isupper() ]\n",
    "# for el in mat2015:\n",
    "#     print( el )"
   ]
  },
  {
   "cell_type": "code",
   "execution_count": 14,
   "metadata": {},
   "outputs": [
    {
     "name": "stderr",
     "output_type": "stream",
     "text": [
      "your 131072x1 screen size is bogus. expect trouble\n",
      "24/04/30 12:07:51 WARN Utils: Your hostname, US-J0Y7MN3 resolves to a loopback address: 127.0.1.1; using 172.30.213.54 instead (on interface eth0)\n",
      "24/04/30 12:07:51 WARN Utils: Set SPARK_LOCAL_IP if you need to bind to another address\n",
      "Setting default log level to \"WARN\".\n",
      "To adjust logging level use sc.setLogLevel(newLevel). For SparkR, use setLogLevel(newLevel).\n",
      "24/04/30 12:07:52 WARN NativeCodeLoader: Unable to load native-hadoop library for your platform... using builtin-java classes where applicable\n"
     ]
    }
   ],
   "source": [
    "# findspark.init()\n",
    "# spark = SparkSession.builder.appName(\"sparksql\").getOrCreate()\n",
    "# %load_ext sparksql_magic\n",
    "# %config SparkSql.max_num_rows=20\n",
    "\n",
    "# print(spark.version)"
   ]
  },
  {
   "cell_type": "code",
   "execution_count": 19,
   "metadata": {},
   "outputs": [],
   "source": [
    "data = (\n",
    "    spark.read.format(\"csv\")\n",
    "    .option(\"inferSchema\", \"true\")\n",
    "    .option(\"header\", \"true\")\n",
    "    .load(\"Wyniki.txt\")\n",
    ")\n",
    "# df = spark.read.csv(\"Wyniki.txt\")"
   ]
  },
  {
   "cell_type": "code",
   "execution_count": 25,
   "metadata": {},
   "outputs": [
    {
     "name": "stdout",
     "output_type": "stream",
     "text": [
      "root\n",
      " |-- Id_kierowcy;Punkty;Id_wyscigu: string (nullable = true)\n",
      "\n"
     ]
    }
   ],
   "source": [
    "data.printSchema()"
   ]
  },
  {
   "cell_type": "code",
   "execution_count": 26,
   "metadata": {},
   "outputs": [],
   "source": [
    "data = (\n",
    "    spark.read.format(\"csv\")\n",
    "    .option(\"inferSchema\", \"true\")\n",
    "    .option(\"header\", \"true\")\n",
    "    .option(\"sep\", \";\")\n",
    "    .load(\"Wyniki.txt\")\n",
    ")"
   ]
  },
  {
   "cell_type": "code",
   "execution_count": 27,
   "metadata": {},
   "outputs": [],
   "source": [
    "data2 = (\n",
    "    data.select(\"Id_kierowcy\", \"Punkty\")\n",
    "    .filter(col(\"Punkty\") == 18)\n",
    "    .orderBy(\"Id_kierowcy\")\n",
    ")"
   ]
  },
  {
   "cell_type": "code",
   "execution_count": 28,
   "metadata": {},
   "outputs": [
    {
     "name": "stdout",
     "output_type": "stream",
     "text": [
      "+-----------+------+\n",
      "|Id_kierowcy|Punkty|\n",
      "+-----------+------+\n",
      "|        z11|    18|\n",
      "|        z11|    18|\n",
      "|        z11|    18|\n",
      "|        z11|    18|\n",
      "|        z11|    18|\n",
      "+-----------+------+\n",
      "only showing top 5 rows\n",
      "\n"
     ]
    }
   ],
   "source": [
    "data2.show(5)"
   ]
  },
  {
   "cell_type": "code",
   "execution_count": 29,
   "metadata": {},
   "outputs": [
    {
     "name": "stdout",
     "output_type": "stream",
     "text": [
      "+-----------+------+\n",
      "|Id_kierowcy|Punkty|\n",
      "+-----------+------+\n",
      "|        z11|    18|\n",
      "|        z11|    18|\n",
      "|        z11|    18|\n",
      "|        z11|    18|\n",
      "|        z11|    18|\n",
      "|        z11|    18|\n",
      "|        z11|    18|\n",
      "|        z11|    18|\n",
      "|        z11|    18|\n",
      "|        z11|    18|\n",
      "|        z11|    18|\n",
      "|        z11|    18|\n",
      "|        z12|    18|\n",
      "|        z12|    18|\n",
      "|        z12|    18|\n",
      "|        z18|    18|\n",
      "|        z18|    18|\n",
      "|        z18|    18|\n",
      "|        z18|    18|\n",
      "|        z18|    18|\n",
      "+-----------+------+\n",
      "only showing top 20 rows\n",
      "\n"
     ]
    }
   ],
   "source": [
    "data2.createOrReplaceTempView(\"data\")\n",
    "spark.sql(\n",
    "    \"\"\"\n",
    "        SELECT * \n",
    "        FROM data\n",
    "        WHERE Punkty > 17\n",
    "        \"\"\"\n",
    ").show()"
   ]
  },
  {
   "cell_type": "code",
   "execution_count": 30,
   "metadata": {},
   "outputs": [],
   "source": [
    "datakubica = data.select(\"Id_kierowcy\", \"Punkty\", \"Id_wyscigu\").where(\n",
    "    (data[\"Id_kierowcy\"] == \"z45\") & (data[\"Punkty\"] >= 10)\n",
    ")"
   ]
  },
  {
   "cell_type": "code",
   "execution_count": 31,
   "metadata": {},
   "outputs": [
    {
     "name": "stdout",
     "output_type": "stream",
     "text": [
      "+-----------+------+----------+\n",
      "|Id_kierowcy|Punkty|Id_wyscigu|\n",
      "+-----------+------+----------+\n",
      "|        z45|    10|      w146|\n",
      "|        z45|    18|      w176|\n",
      "|        z45|    12|      w177|\n",
      "|        z45|    10|      w178|\n",
      "|        z45|    15|      w180|\n",
      "|        z45|    10|      w183|\n",
      "|        z45|    15|      w187|\n",
      "|        z45|    10|      w191|\n",
      "|        z45|    10|      w193|\n",
      "+-----------+------+----------+\n",
      "\n"
     ]
    }
   ],
   "source": [
    "datakubica.show()"
   ]
  },
  {
   "cell_type": "code",
   "execution_count": 32,
   "metadata": {},
   "outputs": [],
   "source": [
    "# pointsall = data.select( \"Id_kierowcy\", \"Punkty\").groupBy( \"Id_kierowcy\").avg()\n",
    "# pointsall = data.select( \"Id_kierowcy\", \"Punkty\").groupBy( \"Id_kierowcy\").count()\n",
    "pointsall = data.select(\"Id_kierowcy\", \"Punkty\").groupBy(\"Id_kierowcy\").sum()"
   ]
  },
  {
   "cell_type": "code",
   "execution_count": 33,
   "metadata": {},
   "outputs": [
    {
     "name": "stdout",
     "output_type": "stream",
     "text": [
      "+-----------+-----------+\n",
      "|Id_kierowcy|sum(Punkty)|\n",
      "+-----------+-----------+\n",
      "|         z1|          8|\n",
      "|        z26|        786|\n",
      "|        z42|        581|\n",
      "|        z47|          3|\n",
      "|         z6|         13|\n",
      "|         z2|         95|\n",
      "|         z3|         21|\n",
      "|        z24|          1|\n",
      "|        z15|        105|\n",
      "|        z20|        238|\n",
      "|        z33|        259|\n",
      "|         z8|        314|\n",
      "|        z40|          3|\n",
      "|        z53|          7|\n",
      "|        z31|        996|\n",
      "|        z56|         64|\n",
      "|        z13|        226|\n",
      "|        z32|        852|\n",
      "|        z30|          8|\n",
      "|        z54|         44|\n",
      "+-----------+-----------+\n",
      "only showing top 20 rows\n",
      "\n"
     ]
    }
   ],
   "source": [
    "pointsall.show()"
   ]
  },
  {
   "cell_type": "code",
   "execution_count": 20,
   "metadata": {},
   "outputs": [],
   "source": [
    "# # from pyspark.sql import SparkSession\n",
    "\n",
    "# # # Create a SparkSession\n",
    "# # spark = SparkSession.builder.appName(\"sparksql\").getOrCreate()\n",
    "\n",
    "# # Read the data from the three files\n",
    "# data1 = spark.read.format('csv').option('inferSchema','true').option('header','true').option('sep',';').load('file1.csv')\n",
    "# data2 = spark.read.format('csv').option('inferSchema','true').option('header','true').option('sep',';').load('file2.csv')\n",
    "# data3 = spark.read.format('csv').option('inferSchema','true').option('header','true').option('sep',';').load('file3.csv')\n",
    "\n",
    "# # Join the dataframes\n",
    "# joined_data = data1.join(data2, on=\"common_column\", how=\"inner\").join(data3, on=\"common_column\", how=\"inner\")\n",
    "\n",
    "# # Perform a select query\n",
    "# result = joined_data.select(\"column1\", \"column2\", \"column3\")\n",
    "\n",
    "# # Show the result\n",
    "# result.show()"
   ]
  },
  {
   "cell_type": "code",
   "execution_count": 34,
   "metadata": {},
   "outputs": [],
   "source": [
    "df = spark.read.format(\"csv\").option(\"header\", \"true\").load(\"orders/2019.csv\")"
   ]
  },
  {
   "cell_type": "code",
   "execution_count": 35,
   "metadata": {},
   "outputs": [
    {
     "data": {
      "text/plain": [
       "DataFrame[SO43701: string, 11: string, 2019-07-01: string, Christy Zhu: string, christy12@adventure-works.com: string, Mountain-100 Silver, 44: string, 16: string, 3399.99: string, 271.9992: string]"
      ]
     },
     "metadata": {},
     "output_type": "display_data"
    }
   ],
   "source": [
    "display(df)"
   ]
  },
  {
   "cell_type": "code",
   "execution_count": 36,
   "metadata": {},
   "outputs": [
    {
     "name": "stdout",
     "output_type": "stream",
     "text": [
      "+-------+---+----------+--------------+-----------------------------+-----------------------+---+--------+--------+\n",
      "|SO43701| 11|2019-07-01|   Christy Zhu|christy12@adventure-works.com|Mountain-100 Silver, 44| 16| 3399.99|271.9992|\n",
      "+-------+---+----------+--------------+-----------------------------+-----------------------+---+--------+--------+\n",
      "|SO43704|  1|2019-07-01|    Julio Ruiz|         julio1@adventure-...|   Mountain-100 Blac...|  1| 3374.99|269.9992|\n",
      "|SO43705|  1|2019-07-01|     Curtis Lu|         curtis9@adventure...|   Mountain-100 Silv...|  1| 3399.99|271.9992|\n",
      "|SO43700|  1|2019-07-01|  Ruben Prasad|         ruben10@adventure...|     Road-650 Black, 62|  1|699.0982| 55.9279|\n",
      "|SO43703|  1|2019-07-01|Albert Alvarez|         albert7@adventure...|       Road-150 Red, 62|  1| 3578.27|286.2616|\n",
      "|SO43697|  1|2019-07-01|   Cole Watson|         cole1@adventure-w...|       Road-150 Red, 62|  1| 3578.27|286.2616|\n",
      "+-------+---+----------+--------------+-----------------------------+-----------------------+---+--------+--------+\n",
      "only showing top 5 rows\n",
      "\n"
     ]
    },
    {
     "name": "stderr",
     "output_type": "stream",
     "text": [
      "24/03/26 09:02:18 WARN CSVHeaderChecker: CSV header does not conform to the schema.\n",
      " Header: SO43701, 1, 2019-07-01, Christy Zhu, christy12@adventure-works.com, Mountain-100 Silver, 44, 1, 3399.99, 271.9992\n",
      " Schema: SO43701, 11, 2019-07-01, Christy Zhu, christy12@adventure-works.com, Mountain-100 Silver, 44, 16, 3399.99, 271.9992\n",
      "Expected: 11 but found: 1\n",
      "CSV file: file:///home/radek/git_projekty/sparkTraining/orders/2019.csv\n"
     ]
    }
   ],
   "source": [
    "df.show(5)"
   ]
  },
  {
   "cell_type": "code",
   "execution_count": 37,
   "metadata": {},
   "outputs": [],
   "source": [
    "orderSchema = StructType(\n",
    "    [\n",
    "        StructField(\"SalesOrderNumber\", StringType()),\n",
    "        StructField(\"SalesOrderLineNumber\", IntegerType()),\n",
    "        StructField(\"OrderDate\", DateType()),\n",
    "        StructField(\"CustomerName\", StringType()),\n",
    "        StructField(\"Email\", StringType()),\n",
    "        StructField(\"Item\", StringType()),\n",
    "        StructField(\"Quantity\", IntegerType()),\n",
    "        StructField(\"UnitPrice\", FloatType()),\n",
    "        StructField(\"Tax\", FloatType()),\n",
    "    ]\n",
    ")"
   ]
  },
  {
   "cell_type": "code",
   "execution_count": 38,
   "metadata": {},
   "outputs": [],
   "source": [
    "df2 = spark.read.format(\"csv\").schema(orderSchema).load(\"orders/2019.csv\")"
   ]
  },
  {
   "cell_type": "code",
   "execution_count": 39,
   "metadata": {},
   "outputs": [
    {
     "name": "stdout",
     "output_type": "stream",
     "text": [
      "+----------------+--------------------+----------+--------------+--------------------+--------------------+--------+---------+--------+\n",
      "|SalesOrderNumber|SalesOrderLineNumber| OrderDate|  CustomerName|               Email|                Item|Quantity|UnitPrice|     Tax|\n",
      "+----------------+--------------------+----------+--------------+--------------------+--------------------+--------+---------+--------+\n",
      "|         SO43701|                   1|2019-07-01|   Christy Zhu|christy12@adventu...|Mountain-100 Silv...|       1|  3399.99|271.9992|\n",
      "|         SO43704|                   1|2019-07-01|    Julio Ruiz|julio1@adventure-...|Mountain-100 Blac...|       1|  3374.99|269.9992|\n",
      "|         SO43705|                   1|2019-07-01|     Curtis Lu|curtis9@adventure...|Mountain-100 Silv...|       1|  3399.99|271.9992|\n",
      "|         SO43700|                   1|2019-07-01|  Ruben Prasad|ruben10@adventure...|  Road-650 Black, 62|       1| 699.0982| 55.9279|\n",
      "|         SO43703|                   1|2019-07-01|Albert Alvarez|albert7@adventure...|    Road-150 Red, 62|       1|  3578.27|286.2616|\n",
      "+----------------+--------------------+----------+--------------+--------------------+--------------------+--------+---------+--------+\n",
      "only showing top 5 rows\n",
      "\n"
     ]
    }
   ],
   "source": [
    "df2.show(5)"
   ]
  },
  {
   "cell_type": "code",
   "execution_count": 40,
   "metadata": {},
   "outputs": [],
   "source": [
    "dfall = spark.read.format(\"csv\").schema(orderSchema).load(\"orders/*.csv\")"
   ]
  },
  {
   "cell_type": "code",
   "execution_count": 41,
   "metadata": {},
   "outputs": [
    {
     "name": "stdout",
     "output_type": "stream",
     "text": [
      "+----------------+--------------------+----------+--------------+--------------------+--------------------+--------+---------+--------+\n",
      "|SalesOrderNumber|SalesOrderLineNumber| OrderDate|  CustomerName|               Email|                Item|Quantity|UnitPrice|     Tax|\n",
      "+----------------+--------------------+----------+--------------+--------------------+--------------------+--------+---------+--------+\n",
      "|         SO49171|                   1|2021-01-01| Mariah Foster|mariah21@adventur...|  Road-250 Black, 48|       1|2181.5625| 174.525|\n",
      "|         SO49172|                   1|2021-01-01|  Brian Howard|brian23@adventure...|    Road-250 Red, 44|       1|  2443.35| 195.468|\n",
      "|         SO49173|                   1|2021-01-01| Linda Alvarez|linda19@adventure...|Mountain-200 Silv...|       1|2071.4197|165.7136|\n",
      "|         SO49174|                   1|2021-01-01|Gina Hernandez|gina4@adventure-w...|Mountain-200 Silv...|       1|2071.4197|165.7136|\n",
      "|         SO49178|                   1|2021-01-01|     Beth Ruiz|beth4@adventure-w...|Road-550-W Yellow...|       1|1000.4375|  80.035|\n",
      "+----------------+--------------------+----------+--------------+--------------------+--------------------+--------+---------+--------+\n",
      "only showing top 5 rows\n",
      "\n"
     ]
    }
   ],
   "source": [
    "dfall.show(5)"
   ]
  },
  {
   "cell_type": "code",
   "execution_count": 42,
   "metadata": {},
   "outputs": [
    {
     "name": "stdout",
     "output_type": "stream",
     "text": [
      "133\n",
      "133\n"
     ]
    },
    {
     "data": {
      "text/plain": [
       "DataFrame[CustomerName: string, Email: string]"
      ]
     },
     "metadata": {},
     "output_type": "display_data"
    }
   ],
   "source": [
    "customers = dfall.select(\"CustomerName\", \"Email\").where(\n",
    "    dfall[\"Item\"] == \"Road-250 Red, 52\"\n",
    ")\n",
    "print(customers.count())\n",
    "print(customers.distinct().count())\n",
    "display(customers.distinct())"
   ]
  },
  {
   "cell_type": "code",
   "execution_count": 43,
   "metadata": {},
   "outputs": [],
   "source": [
    "productSales = dfall.select(\"Item\", \"Quantity\").groupBy(\"Item\").sum()"
   ]
  },
  {
   "cell_type": "code",
   "execution_count": 44,
   "metadata": {},
   "outputs": [
    {
     "name": "stdout",
     "output_type": "stream",
     "text": [
      "+--------------------+-------------+\n",
      "|                Item|sum(Quantity)|\n",
      "+--------------------+-------------+\n",
      "|Mountain-200 Blac...|          388|\n",
      "|Touring-1000 Yell...|           74|\n",
      "|Touring-1000 Blue...|           67|\n",
      "|Short-Sleeve Clas...|          216|\n",
      "|Women's Mountain ...|          146|\n",
      "+--------------------+-------------+\n",
      "only showing top 5 rows\n",
      "\n"
     ]
    }
   ],
   "source": [
    "productSales.show(5)"
   ]
  },
  {
   "cell_type": "code",
   "execution_count": 45,
   "metadata": {},
   "outputs": [
    {
     "data": {
      "text/plain": [
       "DataFrame[Year: int, count: bigint]"
      ]
     },
     "metadata": {},
     "output_type": "display_data"
    },
    {
     "name": "stdout",
     "output_type": "stream",
     "text": [
      "+----+-----+\n",
      "|Year|count|\n",
      "+----+-----+\n",
      "|2019| 1201|\n",
      "|2020| 2733|\n",
      "|2021|28784|\n",
      "+----+-----+\n",
      "\n"
     ]
    }
   ],
   "source": [
    "yearlySales = (\n",
    "    dfall.select(year(col(\"OrderDate\")).alias(\"Year\"))\n",
    "    .groupBy(\"Year\")\n",
    "    .count()\n",
    "    .orderBy(\"Year\")\n",
    ")\n",
    "display(yearlySales)\n",
    "yearlySales.show(5)"
   ]
  },
  {
   "cell_type": "code",
   "execution_count": 127,
   "metadata": {},
   "outputs": [],
   "source": [
    "dfx = spark.read.load(\n",
    "    \"/home/radek/git_projekty/sparkTraining/datafabrictraining/Files/partitioned_data\",\n",
    "    format=\"parquet\",\n",
    ")"
   ]
  },
  {
   "cell_type": "code",
   "execution_count": 128,
   "metadata": {},
   "outputs": [
    {
     "name": "stdout",
     "output_type": "stream",
     "text": [
      "+----------------+--------------------+----------+---------+--------+--------------------+--------------------+--------+---------+-------+----+-----+\n",
      "|SalesOrderNumber|SalesOrderLineNumber| OrderDate|FirstName|LastName|               Email|                Item|Quantity|UnitPrice|    Tax|Year|Month|\n",
      "+----------------+--------------------+----------+---------+--------+--------------------+--------------------+--------+---------+-------+----+-----+\n",
      "|         SO59195|                   1|2021-11-01|   Alexia|   Hayes|alexia19@adventur...|Touring-2000 Blue...|       1|  1214.85| 97.188|2021|   11|\n",
      "|         SO59195|                   2|2021-11-01|   Alexia|   Hayes|alexia19@adventur...|     Racing Socks, M|       1|     8.99| 0.7192|2021|   11|\n",
      "|         SO59196|                   1|2021-11-01|  Anthony|  Garcia|anthony2@adventur...|Touring-2000 Blue...|       1|  1214.85| 97.188|2021|   11|\n",
      "|         SO59196|                   2|2021-11-01|  Anthony|  Garcia|anthony2@adventur...|Sport-100 Helmet,...|       1|    34.99| 2.7992|2021|   11|\n",
      "|         SO59191|                   1|2021-11-01|   Willie|    Nara|willie36@adventur...|Road-550-W Yellow...|       1|  1120.49|89.6392|2021|   11|\n",
      "+----------------+--------------------+----------+---------+--------+--------------------+--------------------+--------+---------+-------+----+-----+\n",
      "only showing top 5 rows\n",
      "\n"
     ]
    },
    {
     "name": "stderr",
     "output_type": "stream",
     "text": [
      "                                                                                \r"
     ]
    }
   ],
   "source": [
    "dfx.show(5)"
   ]
  },
  {
   "cell_type": "code",
   "execution_count": 46,
   "metadata": {},
   "outputs": [
    {
     "data": {
      "text/plain": [
       "DataFrame[SalesOrderNumber: string, SalesOrderLineNumber: int, OrderDate: date, Year: int, Month: int, FirstName: string, LastName: string, Email: string, Item: string, Quantity: int, UnitPrice: float, Tax: float]"
      ]
     },
     "metadata": {},
     "output_type": "display_data"
    },
    {
     "name": "stdout",
     "output_type": "stream",
     "text": [
      "+----------------+--------------------+----------+----+-----+---------+---------+--------------------+--------------------+--------+---------+--------+\n",
      "|SalesOrderNumber|SalesOrderLineNumber| OrderDate|Year|Month|FirstName| LastName|               Email|                Item|Quantity|UnitPrice|     Tax|\n",
      "+----------------+--------------------+----------+----+-----+---------+---------+--------------------+--------------------+--------+---------+--------+\n",
      "|         SO49171|                   1|2021-01-01|2021|    1|   Mariah|   Foster|mariah21@adventur...|  Road-250 Black, 48|       1|2181.5625| 174.525|\n",
      "|         SO49172|                   1|2021-01-01|2021|    1|    Brian|   Howard|brian23@adventure...|    Road-250 Red, 44|       1|  2443.35| 195.468|\n",
      "|         SO49173|                   1|2021-01-01|2021|    1|    Linda|  Alvarez|linda19@adventure...|Mountain-200 Silv...|       1|2071.4197|165.7136|\n",
      "|         SO49174|                   1|2021-01-01|2021|    1|     Gina|Hernandez|gina4@adventure-w...|Mountain-200 Silv...|       1|2071.4197|165.7136|\n",
      "|         SO49178|                   1|2021-01-01|2021|    1|     Beth|     Ruiz|beth4@adventure-w...|Road-550-W Yellow...|       1|1000.4375|  80.035|\n",
      "+----------------+--------------------+----------+----+-----+---------+---------+--------------------+--------------------+--------+---------+--------+\n",
      "only showing top 5 rows\n",
      "\n"
     ]
    }
   ],
   "source": [
    "## Create Year and Month columns\n",
    "transformed_df = dfall.withColumn(\"Year\", year(col(\"OrderDate\"))).withColumn(\n",
    "    \"Month\", month(col(\"OrderDate\"))\n",
    ")\n",
    "\n",
    "# Create the new FirstName and LastName fields\n",
    "transformed_df = transformed_df.withColumn(\n",
    "    \"FirstName\", split(col(\"CustomerName\"), \" \").getItem(0)\n",
    ").withColumn(\"LastName\", split(col(\"CustomerName\"), \" \").getItem(1))\n",
    "\n",
    "# Filter and reorder columns\n",
    "transformed_df = transformed_df[\n",
    "    \"SalesOrderNumber\",\n",
    "    \"SalesOrderLineNumber\",\n",
    "    \"OrderDate\",\n",
    "    \"Year\",\n",
    "    \"Month\",\n",
    "    \"FirstName\",\n",
    "    \"LastName\",\n",
    "    \"Email\",\n",
    "    \"Item\",\n",
    "    \"Quantity\",\n",
    "    \"UnitPrice\",\n",
    "    \"Tax\",\n",
    "]\n",
    "\n",
    "# Display the first five orders\n",
    "display(transformed_df.limit(5))\n",
    "transformed_df.show(5)"
   ]
  },
  {
   "cell_type": "markdown",
   "metadata": {},
   "source": [
    "Save the transformed data\n",
    "Add a new cell with the following code to save the transformed dataframe in Parquet format (Overwriting the data if it already exists):"
   ]
  },
  {
   "cell_type": "code",
   "execution_count": 34,
   "metadata": {},
   "outputs": [],
   "source": [
    "# transformed_df.write.mode(\"overwrite\").parquet('Files/transformed_data/orders')\n",
    "# print (\"Transformed data saved!\")"
   ]
  },
  {
   "cell_type": "markdown",
   "metadata": {},
   "source": [
    "# Save data in partitioned files\n",
    "# Add a new cell with the following code; which saves the dataframe, partitioning the data by Year and Month:\n",
    "\n",
    "````\n",
    "orders_df.write.partitionBy(\"Year\",\"Month\").mode(\"overwrite\").parquet(\"Files/partitioned_data\")\n",
    "print (\"Transf"
   ]
  },
  {
   "cell_type": "code",
   "execution_count": 35,
   "metadata": {},
   "outputs": [],
   "source": [
    "# %load_ext sparksql_magic\n",
    "# %config SparkSql.max_num_rows=20"
   ]
  },
  {
   "cell_type": "code",
   "execution_count": 47,
   "metadata": {},
   "outputs": [],
   "source": [
    "# Assuming you have a DataFrame called 'df'\n",
    "dfall.createOrReplaceTempView(\"my_temp_view\")\n",
    "transformed_df.createOrReplaceTempView(\"my_temp_view2\")"
   ]
  },
  {
   "cell_type": "code",
   "execution_count": 48,
   "metadata": {},
   "outputs": [
    {
     "name": "stdout",
     "output_type": "stream",
     "text": [
      "+----------------+--------------------+----------+--------------+--------------------+--------------------+--------+---------+--------+\n",
      "|SalesOrderNumber|SalesOrderLineNumber| OrderDate|  CustomerName|               Email|                Item|Quantity|UnitPrice|     Tax|\n",
      "+----------------+--------------------+----------+--------------+--------------------+--------------------+--------+---------+--------+\n",
      "|         SO49171|                   1|2021-01-01| Mariah Foster|mariah21@adventur...|  Road-250 Black, 48|       1|2181.5625| 174.525|\n",
      "|         SO49172|                   1|2021-01-01|  Brian Howard|brian23@adventure...|    Road-250 Red, 44|       1|  2443.35| 195.468|\n",
      "|         SO49173|                   1|2021-01-01| Linda Alvarez|linda19@adventure...|Mountain-200 Silv...|       1|2071.4197|165.7136|\n",
      "|         SO49174|                   1|2021-01-01|Gina Hernandez|gina4@adventure-w...|Mountain-200 Silv...|       1|2071.4197|165.7136|\n",
      "|         SO49178|                   1|2021-01-01|     Beth Ruiz|beth4@adventure-w...|Road-550-W Yellow...|       1|1000.4375|  80.035|\n",
      "+----------------+--------------------+----------+--------------+--------------------+--------------------+--------+---------+--------+\n",
      "only showing top 5 rows\n",
      "\n"
     ]
    }
   ],
   "source": [
    "# Now you can query the view using Spark SQL\n",
    "spark.sql(\"SELECT * FROM my_temp_view\").show(5)"
   ]
  },
  {
   "cell_type": "code",
   "execution_count": 49,
   "metadata": {},
   "outputs": [
    {
     "data": {
      "text/html": [
       "<table><tr style=\"border-bottom: 1px solid\"><td style=\"font-weight: bold\">SalesOrderNumber</td><td style=\"font-weight: bold\">SalesOrderLineNumber</td><td style=\"font-weight: bold\">OrderDate</td><td style=\"font-weight: bold\">CustomerName</td><td style=\"font-weight: bold\">Email</td><td style=\"font-weight: bold\">Item</td><td style=\"font-weight: bold\">Quantity</td><td style=\"font-weight: bold\">UnitPrice</td><td style=\"font-weight: bold\">Tax</td></tr><tr><td>SO49171</td><td>1</td><td>2021-01-01</td><td>Mariah Foster</td><td>mariah21@adventure-works.com</td><td>Road-250 Black, 48</td><td>1</td><td>2181.5625</td><td>174.52499389648438</td></tr><tr><td>SO49172</td><td>1</td><td>2021-01-01</td><td>Brian Howard</td><td>brian23@adventure-works.com</td><td>Road-250 Red, 44</td><td>1</td><td>2443.35009765625</td><td>195.46800231933594</td></tr><tr><td>SO49173</td><td>1</td><td>2021-01-01</td><td>Linda Alvarez</td><td>linda19@adventure-works.com</td><td>Mountain-200 Silver, 38</td><td>1</td><td>2071.419677734375</td><td>165.71359252929688</td></tr><tr><td>SO49174</td><td>1</td><td>2021-01-01</td><td>Gina Hernandez</td><td>gina4@adventure-works.com</td><td>Mountain-200 Silver, 42</td><td>1</td><td>2071.419677734375</td><td>165.71359252929688</td></tr><tr><td>SO49178</td><td>1</td><td>2021-01-01</td><td>Beth Ruiz</td><td>beth4@adventure-works.com</td><td>Road-550-W Yellow, 44</td><td>1</td><td>1000.4375</td><td>80.03500366210938</td></tr></table>"
      ],
      "text/plain": [
       "<IPython.core.display.HTML object>"
      ]
     },
     "execution_count": 49,
     "metadata": {},
     "output_type": "execute_result"
    }
   ],
   "source": [
    "%%sparksql \n",
    "SELECT * FROM my_temp_view LIMIT 5"
   ]
  },
  {
   "cell_type": "code",
   "execution_count": 50,
   "metadata": {},
   "outputs": [
    {
     "data": {
      "text/html": [
       "<table><tr style=\"border-bottom: 1px solid\"><td style=\"font-weight: bold\">SalesOrderNumber</td><td style=\"font-weight: bold\">SalesOrderLineNumber</td><td style=\"font-weight: bold\">OrderDate</td><td style=\"font-weight: bold\">Year</td><td style=\"font-weight: bold\">Month</td><td style=\"font-weight: bold\">FirstName</td><td style=\"font-weight: bold\">LastName</td><td style=\"font-weight: bold\">Email</td><td style=\"font-weight: bold\">Item</td><td style=\"font-weight: bold\">Quantity</td><td style=\"font-weight: bold\">UnitPrice</td><td style=\"font-weight: bold\">Tax</td></tr><tr><td>SO49171</td><td>1</td><td>2021-01-01</td><td>2021</td><td>1</td><td>Mariah</td><td>Foster</td><td>mariah21@adventure-works.com</td><td>Road-250 Black, 48</td><td>1</td><td>2181.5625</td><td>174.52499389648438</td></tr><tr><td>SO49172</td><td>1</td><td>2021-01-01</td><td>2021</td><td>1</td><td>Brian</td><td>Howard</td><td>brian23@adventure-works.com</td><td>Road-250 Red, 44</td><td>1</td><td>2443.35009765625</td><td>195.46800231933594</td></tr><tr><td>SO49173</td><td>1</td><td>2021-01-01</td><td>2021</td><td>1</td><td>Linda</td><td>Alvarez</td><td>linda19@adventure-works.com</td><td>Mountain-200 Silver, 38</td><td>1</td><td>2071.419677734375</td><td>165.71359252929688</td></tr><tr><td>SO49174</td><td>1</td><td>2021-01-01</td><td>2021</td><td>1</td><td>Gina</td><td>Hernandez</td><td>gina4@adventure-works.com</td><td>Mountain-200 Silver, 42</td><td>1</td><td>2071.419677734375</td><td>165.71359252929688</td></tr><tr><td>SO49178</td><td>1</td><td>2021-01-01</td><td>2021</td><td>1</td><td>Beth</td><td>Ruiz</td><td>beth4@adventure-works.com</td><td>Road-550-W Yellow, 44</td><td>1</td><td>1000.4375</td><td>80.03500366210938</td></tr></table>"
      ],
      "text/plain": [
       "<IPython.core.display.HTML object>"
      ]
     },
     "execution_count": 50,
     "metadata": {},
     "output_type": "execute_result"
    }
   ],
   "source": [
    "%%sparksql \n",
    "SELECT * FROM my_temp_view2 LIMIT 5"
   ]
  },
  {
   "cell_type": "code",
   "execution_count": 51,
   "metadata": {},
   "outputs": [
    {
     "name": "stderr",
     "output_type": "stream",
     "text": [
      "24/03/26 09:07:27 WARN CharVarcharUtils: The Spark cast operator does not support char/varchar type and simply treats them as string type. Please use string type directly to avoid confusion. Otherwise, you can set spark.sql.legacy.charVarcharAsString to true, so that Spark treat them as string type as same as Spark 3.0 and earlier\n",
      "24/03/26 09:07:27 WARN CharVarcharUtils: The Spark cast operator does not support char/varchar type and simply treats them as string type. Please use string type directly to avoid confusion. Otherwise, you can set spark.sql.legacy.charVarcharAsString to true, so that Spark treat them as string type as same as Spark 3.0 and earlier\n"
     ]
    },
    {
     "name": "stdout",
     "output_type": "stream",
     "text": [
      "+---------+--------------------+\n",
      "|OrderYear|        GrossRevenue|\n",
      "+---------+--------------------+\n",
      "|     2019|   4172169.969970703|\n",
      "|     2020|   6882259.268127441|\n",
      "|     2021|1.1547835291696548E7|\n",
      "+---------+--------------------+\n",
      "\n"
     ]
    }
   ],
   "source": [
    "sqlQuery = \"SELECT CAST(YEAR(OrderDate) AS CHAR(4)) AS OrderYear, \\\n",
    "                SUM((UnitPrice * Quantity) + Tax) AS GrossRevenue \\\n",
    "            FROM my_temp_view2 \\\n",
    "            GROUP BY CAST(YEAR(OrderDate) AS CHAR(4)) \\\n",
    "            ORDER BY OrderYear\"\n",
    "df_spark = spark.sql(sqlQuery)\n",
    "df_spark.show()"
   ]
  },
  {
   "cell_type": "code",
   "execution_count": 52,
   "metadata": {},
   "outputs": [],
   "source": [
    "dfa = spark.read.format(\"csv\").option(\"header\", \"true\").load(\"products/products.csv\")"
   ]
  },
  {
   "cell_type": "code",
   "execution_count": 53,
   "metadata": {},
   "outputs": [
    {
     "data": {
      "text/plain": [
       "DataFrame[ProductID: string, ProductName: string, Category: string, ListPrice: string]"
      ]
     },
     "metadata": {},
     "output_type": "display_data"
    },
    {
     "name": "stdout",
     "output_type": "stream",
     "text": [
      "+---------+--------------------+--------------+---------+\n",
      "|ProductID|         ProductName|      Category|ListPrice|\n",
      "+---------+--------------------+--------------+---------+\n",
      "|      771|Mountain-100 Silv...|Mountain Bikes|3399.9900|\n",
      "|      772|Mountain-100 Silv...|Mountain Bikes|3399.9900|\n",
      "|      773|Mountain-100 Silv...|Mountain Bikes|3399.9900|\n",
      "|      774|Mountain-100 Silv...|Mountain Bikes|3399.9900|\n",
      "|      775|Mountain-100 Blac...|Mountain Bikes|3374.9900|\n",
      "+---------+--------------------+--------------+---------+\n",
      "only showing top 5 rows\n",
      "\n"
     ]
    }
   ],
   "source": [
    "display(dfa)\n",
    "dfa.show(5)"
   ]
  },
  {
   "cell_type": "code",
   "execution_count": 54,
   "metadata": {},
   "outputs": [],
   "source": [
    "# dfa.write.format(\"delta\").saveAsTable(\"dfa\")\n",
    "# dfa.write.format(\"delta\").saveAsTable(\"dfa\",path=\"products\")\n",
    "# dfa.write.format(\"delta\").saveAsTable(\"managed_products\")\n",
    "dfa.createOrReplaceTempView(\"dfa\")"
   ]
  },
  {
   "cell_type": "code",
   "execution_count": 55,
   "metadata": {},
   "outputs": [
    {
     "data": {
      "text/html": [
       "<table><tr style=\"border-bottom: 1px solid\"><td style=\"font-weight: bold\">col_name</td><td style=\"font-weight: bold\">data_type</td><td style=\"font-weight: bold\">comment</td></tr><tr><td>ProductID</td><td>string</td><td>null</td></tr><tr><td>ProductName</td><td>string</td><td>null</td></tr><tr><td>Category</td><td>string</td><td>null</td></tr><tr><td>ListPrice</td><td>string</td><td>null</td></tr></table>"
      ],
      "text/plain": [
       "<IPython.core.display.HTML object>"
      ]
     },
     "execution_count": 55,
     "metadata": {},
     "output_type": "execute_result"
    }
   ],
   "source": [
    "%%sparksql\n",
    "DESCRIBE FORMATTED dfa"
   ]
  },
  {
   "cell_type": "code",
   "execution_count": 56,
   "metadata": {},
   "outputs": [
    {
     "data": {
      "text/html": [
       "<table><tr style=\"border-bottom: 1px solid\"><td style=\"font-weight: bold\">ProductID</td><td style=\"font-weight: bold\">ProductName</td><td style=\"font-weight: bold\">Category</td><td style=\"font-weight: bold\">ListPrice</td></tr><tr><td>771</td><td>Mountain-100 Silver, 38</td><td>Mountain Bikes</td><td>3399.9900</td></tr><tr><td>772</td><td>Mountain-100 Silver, 42</td><td>Mountain Bikes</td><td>3399.9900</td></tr><tr><td>773</td><td>Mountain-100 Silver, 44</td><td>Mountain Bikes</td><td>3399.9900</td></tr><tr><td>774</td><td>Mountain-100 Silver, 48</td><td>Mountain Bikes</td><td>3399.9900</td></tr><tr><td>775</td><td>Mountain-100 Black, 38</td><td>Mountain Bikes</td><td>3374.9900</td></tr></table>"
      ],
      "text/plain": [
       "<IPython.core.display.HTML object>"
      ]
     },
     "execution_count": 56,
     "metadata": {},
     "output_type": "execute_result"
    }
   ],
   "source": [
    "%%sparksql\n",
    "select * from dfa limit 5"
   ]
  },
  {
   "cell_type": "code",
   "execution_count": 57,
   "metadata": {},
   "outputs": [],
   "source": [
    "# spark.stop()"
   ]
  },
  {
   "cell_type": "code",
   "execution_count": 47,
   "metadata": {},
   "outputs": [],
   "source": [
    "# %%sparksql\n",
    "# UPDATE dfa\n",
    "# SET  ListPrice = ListPrice * 0.9\n",
    "# WHERE Category = 'Mountain Bikes';"
   ]
  },
  {
   "cell_type": "code",
   "execution_count": 48,
   "metadata": {},
   "outputs": [],
   "source": [
    "# %reload_ext Kqlmagic"
   ]
  },
  {
   "cell_type": "code",
   "execution_count": 59,
   "metadata": {},
   "outputs": [
    {
     "name": "stdout",
     "output_type": "stream",
     "text": [
      "+----------------+--------------------+----------+--------------+--------------------+--------------------+--------+---------+--------+\n",
      "|SalesOrderNumber|SalesOrderLineNumber| OrderDate|  CustomerName|               Email|                Item|Quantity|UnitPrice|     Tax|\n",
      "+----------------+--------------------+----------+--------------+--------------------+--------------------+--------+---------+--------+\n",
      "|         SO43704|                   1|2019-07-01|    Julio Ruiz|julio1@adventure-...|Mountain-100 Blac...|       1|  3374.99|269.9992|\n",
      "|         SO43705|                   1|2019-07-01|     Curtis Lu|curtis9@adventure...|Mountain-100 Silv...|       1|  3399.99|271.9992|\n",
      "|         SO43700|                   1|2019-07-01|  Ruben Prasad|ruben10@adventure...|  Road-650 Black, 62|       1| 699.0982| 55.9279|\n",
      "|         SO43703|                   1|2019-07-01|Albert Alvarez|albert7@adventure...|    Road-150 Red, 62|       1|  3578.27|286.2616|\n",
      "|         SO43697|                   1|2019-07-01|   Cole Watson|cole1@adventure-w...|    Road-150 Red, 62|       1|  3578.27|286.2616|\n",
      "|         SO43699|                   1|2019-07-01| Sydney Wright|sydney61@adventur...|Mountain-100 Silv...|       1|  3399.99|271.9992|\n",
      "+----------------+--------------------+----------+--------------+--------------------+--------------------+--------+---------+--------+\n",
      "only showing top 6 rows\n",
      "\n"
     ]
    },
    {
     "name": "stderr",
     "output_type": "stream",
     "text": [
      "24/03/26 09:08:29 WARN CSVHeaderChecker: CSV header does not conform to the schema.\n",
      " Header: SO43701, 1, 2019-07-01, Christy Zhu, christy12@adventure-works.com, Mountain-100 Silver, 44, 1, 3399.99, 271.9992\n",
      " Schema: SalesOrderNumber, SalesOrderLineNumber, OrderDate, CustomerName, Email, Item, Quantity, UnitPrice, Tax\n",
      "Expected: SalesOrderNumber but found: SO43701\n",
      "CSV file: file:///home/radek/git_projekty/sparkTraining/2019.csv\n"
     ]
    }
   ],
   "source": [
    "orderSchema = StructType(\n",
    "    [\n",
    "        StructField(\"SalesOrderNumber\", StringType()),\n",
    "        StructField(\"SalesOrderLineNumber\", IntegerType()),\n",
    "        StructField(\"OrderDate\", DateType()),\n",
    "        StructField(\"CustomerName\", StringType()),\n",
    "        StructField(\"Email\", StringType()),\n",
    "        StructField(\"Item\", StringType()),\n",
    "        StructField(\"Quantity\", IntegerType()),\n",
    "        StructField(\"UnitPrice\", FloatType()),\n",
    "        StructField(\"Tax\", FloatType()),\n",
    "    ]\n",
    ")\n",
    "\n",
    "# Import all files from bronze folder of lakehouse\n",
    "df5 = (\n",
    "    spark.read.format(\"csv\")\n",
    "    .option(\"header\", \"true\")\n",
    "    .schema(orderSchema)\n",
    "    .load(\"2019.csv\")\n",
    ")\n",
    "\n",
    "# Display the first 10 rows of the dataframe to preview your data\n",
    "# display(df5.head(10))\n",
    "df5.show(6)\n",
    "df5.createOrReplaceTempView(\"df5\")"
   ]
  },
  {
   "cell_type": "code",
   "execution_count": 60,
   "metadata": {},
   "outputs": [
    {
     "name": "stderr",
     "output_type": "stream",
     "text": [
      "24/03/26 09:08:34 WARN CSVHeaderChecker: CSV header does not conform to the schema.\n",
      " Header: SO43701, 1, 2019-07-01, Christy Zhu, christy12@adventure-works.com, Mountain-100 Silver, 44, 1, 3399.99, 271.9992\n",
      " Schema: SalesOrderNumber, SalesOrderLineNumber, OrderDate, CustomerName, Email, Item, Quantity, UnitPrice, Tax\n",
      "Expected: SalesOrderNumber but found: SO43701\n",
      "CSV file: file:///home/radek/git_projekty/sparkTraining/2019.csv\n"
     ]
    },
    {
     "data": {
      "text/html": [
       "<table><tr style=\"border-bottom: 1px solid\"><td style=\"font-weight: bold\">SalesOrderNumber</td><td style=\"font-weight: bold\">SalesOrderLineNumber</td><td style=\"font-weight: bold\">OrderDate</td><td style=\"font-weight: bold\">CustomerName</td><td style=\"font-weight: bold\">Email</td><td style=\"font-weight: bold\">Item</td><td style=\"font-weight: bold\">Quantity</td><td style=\"font-weight: bold\">UnitPrice</td><td style=\"font-weight: bold\">Tax</td></tr><tr><td>SO43704</td><td>1</td><td>2019-07-01</td><td>Julio Ruiz</td><td>julio1@adventure-works.com</td><td>Mountain-100 Black, 48</td><td>1</td><td>3374.989990234375</td><td>269.99920654296875</td></tr><tr><td>SO43705</td><td>1</td><td>2019-07-01</td><td>Curtis Lu</td><td>curtis9@adventure-works.com</td><td>Mountain-100 Silver, 38</td><td>1</td><td>3399.989990234375</td><td>271.99920654296875</td></tr><tr><td>SO43700</td><td>1</td><td>2019-07-01</td><td>Ruben Prasad</td><td>ruben10@adventure-works.com</td><td>Road-650 Black, 62</td><td>1</td><td>699.0982055664062</td><td>55.92789840698242</td></tr></table>"
      ],
      "text/plain": [
       "<IPython.core.display.HTML object>"
      ]
     },
     "execution_count": 60,
     "metadata": {},
     "output_type": "execute_result"
    }
   ],
   "source": [
    "%%sparksql\n",
    "select * from df5 limit 3;\n"
   ]
  },
  {
   "cell_type": "code",
   "execution_count": 69,
   "metadata": {},
   "outputs": [],
   "source": [
    "# Add columns IsFlagged, CreatedTS and ModifiedTS\n",
    "df6 = (\n",
    "    df5.withColumn(\"FileName\", input_file_name())\n",
    "    .withColumn(\n",
    "        \"IsFlagged\", when(col(\"OrderDate\") < \"2019-08-01\", True).otherwise(False)\n",
    "    )\n",
    "    .withColumn(\"CreatedTS\", current_timestamp())\n",
    "    .withColumn(\"ModifiedTS\", current_timestamp())\n",
    ")\n",
    "\n",
    "# Update CustomerName to \"Unknown\" if CustomerName null or empty\n",
    "df6 = df6.withColumn(\n",
    "    \"CustomerName\",\n",
    "    when(\n",
    "        (col(\"CustomerName\").isNull() | (col(\"CustomerName\") == \"\")), lit(\"Unknown\")\n",
    "    ).otherwise(col(\"CustomerName\")),\n",
    ")"
   ]
  },
  {
   "cell_type": "code",
   "execution_count": 70,
   "metadata": {},
   "outputs": [
    {
     "name": "stdout",
     "output_type": "stream",
     "text": [
      "+----------------+--------------------+----------+------------+--------------------+--------------------+--------+---------+--------+--------------------+---------+--------------------+--------------------+\n",
      "|SalesOrderNumber|SalesOrderLineNumber| OrderDate|CustomerName|               Email|                Item|Quantity|UnitPrice|     Tax|            FileName|IsFlagged|           CreatedTS|          ModifiedTS|\n",
      "+----------------+--------------------+----------+------------+--------------------+--------------------+--------+---------+--------+--------------------+---------+--------------------+--------------------+\n",
      "|         SO43704|                   1|2019-07-01|  Julio Ruiz|julio1@adventure-...|Mountain-100 Blac...|       1|  3374.99|269.9992|file:///home/rade...|     true|2024-03-26 09:13:...|2024-03-26 09:13:...|\n",
      "|         SO43705|                   1|2019-07-01|   Curtis Lu|curtis9@adventure...|Mountain-100 Silv...|       1|  3399.99|271.9992|file:///home/rade...|     true|2024-03-26 09:13:...|2024-03-26 09:13:...|\n",
      "|         SO43700|                   1|2019-07-01|Ruben Prasad|ruben10@adventure...|  Road-650 Black, 62|       1| 699.0982| 55.9279|file:///home/rade...|     true|2024-03-26 09:13:...|2024-03-26 09:13:...|\n",
      "+----------------+--------------------+----------+------------+--------------------+--------------------+--------+---------+--------+--------------------+---------+--------------------+--------------------+\n",
      "only showing top 3 rows\n",
      "\n"
     ]
    },
    {
     "name": "stderr",
     "output_type": "stream",
     "text": [
      "24/03/26 09:13:45 WARN CSVHeaderChecker: CSV header does not conform to the schema.\n",
      " Header: SO43701, 1, 2019-07-01, Christy Zhu, christy12@adventure-works.com, Mountain-100 Silver, 44, 1, 3399.99, 271.9992\n",
      " Schema: SalesOrderNumber, SalesOrderLineNumber, OrderDate, CustomerName, Email, Item, Quantity, UnitPrice, Tax\n",
      "Expected: SalesOrderNumber but found: SO43701\n",
      "CSV file: file:///home/radek/git_projekty/sparkTraining/2019.csv\n"
     ]
    }
   ],
   "source": [
    "df6.show(3)"
   ]
  },
  {
   "cell_type": "code",
   "execution_count": 71,
   "metadata": {},
   "outputs": [
    {
     "name": "stderr",
     "output_type": "stream",
     "text": [
      "24/03/26 09:14:31 WARN CSVHeaderChecker: CSV header does not conform to the schema.\n",
      " Header: 2019-07-01\n",
      " Schema: OrderDate\n",
      "Expected: OrderDate but found: 2019-07-01\n",
      "CSV file: file:///home/radek/git_projekty/sparkTraining/2019.csv\n"
     ]
    },
    {
     "data": {
      "text/plain": [
       "[Row(OrderDate=datetime.date(2019, 7, 1), Day=1, Month=7, Year=2019, mmmyyyy='Jul-2019', yyyymm='201907'),\n",
       " Row(OrderDate=datetime.date(2019, 7, 2), Day=2, Month=7, Year=2019, mmmyyyy='Jul-2019', yyyymm='201907')]"
      ]
     },
     "metadata": {},
     "output_type": "display_data"
    },
    {
     "name": "stdout",
     "output_type": "stream",
     "text": [
      "+----------+---+-----+----+--------+------+\n",
      "| OrderDate|Day|Month|Year| mmmyyyy|yyyymm|\n",
      "+----------+---+-----+----+--------+------+\n",
      "|2019-07-01|  1|    7|2019|Jul-2019|201907|\n",
      "|2019-07-02|  2|    7|2019|Jul-2019|201907|\n",
      "|2019-07-03|  3|    7|2019|Jul-2019|201907|\n",
      "|2019-07-04|  4|    7|2019|Jul-2019|201907|\n",
      "|2019-07-05|  5|    7|2019|Jul-2019|201907|\n",
      "+----------+---+-----+----+--------+------+\n",
      "only showing top 5 rows\n",
      "\n"
     ]
    },
    {
     "name": "stderr",
     "output_type": "stream",
     "text": [
      "24/03/26 09:14:31 WARN CSVHeaderChecker: CSV header does not conform to the schema.\n",
      " Header: 2019-07-01\n",
      " Schema: OrderDate\n",
      "Expected: OrderDate but found: 2019-07-01\n",
      "CSV file: file:///home/radek/git_projekty/sparkTraining/2019.csv\n"
     ]
    }
   ],
   "source": [
    "# Define the schema for the sales_silver table\n",
    "# %%sparksql\n",
    "# DeltaTable.createIfNotExists(spark) \\\n",
    "#     .tableName(\"sales.sales_silver\") \\\n",
    "#     .addColumn(\"SalesOrderNumber\", StringType()) \\\n",
    "#     .addColumn(\"SalesOrderLineNumber\", IntegerType()) \\\n",
    "#     .addColumn(\"OrderDate\", DateType()) \\\n",
    "#     .addColumn(\"CustomerName\", StringType()) \\\n",
    "#     .addColumn(\"Email\", StringType()) \\\n",
    "#     .addColumn(\"Item\", StringType()) \\\n",
    "#     .addColumn(\"Quantity\", IntegerType()) \\\n",
    "#     .addColumn(\"UnitPrice\", FloatType()) \\\n",
    "#     .addColumn(\"Tax\", FloatType()) \\\n",
    "#     .addColumn(\"FileName\", StringType()) \\\n",
    "#     .addColumn(\"IsFlagged\", BooleanType()) \\\n",
    "#     .addColumn(\"CreatedTS\", DateType()) \\\n",
    "#     .addColumn(\"ModifiedTS\", DateType()) \\\n",
    "#     .execute()\n",
    "# Create dataframe for dimDate_gold\n",
    "\n",
    "dfdimDate_gold = (\n",
    "    df6.dropDuplicates([\"OrderDate\"])\n",
    "    .select(\n",
    "        col(\"OrderDate\"),\n",
    "        dayofmonth(\"OrderDate\").alias(\"Day\"),\n",
    "        month(\"OrderDate\").alias(\"Month\"),\n",
    "        year(\"OrderDate\").alias(\"Year\"),\n",
    "        date_format(col(\"OrderDate\"), \"MMM-yyyy\").alias(\"mmmyyyy\"),\n",
    "        date_format(col(\"OrderDate\"), \"yyyyMM\").alias(\"yyyymm\"),\n",
    "    )\n",
    "    .orderBy(\"OrderDate\")\n",
    ")\n",
    "\n",
    "# Display the first 10 rows of the dataframe to preview your data\n",
    "\n",
    "display(dfdimDate_gold.head(2))\n",
    "dfdimDate_gold.show(5)"
   ]
  },
  {
   "cell_type": "code",
   "execution_count": 73,
   "metadata": {},
   "outputs": [
    {
     "name": "stderr",
     "output_type": "stream",
     "text": [
      "24/03/26 09:14:58 WARN CSVHeaderChecker: CSV header does not conform to the schema.\n",
      " Header: Christy Zhu, christy12@adventure-works.com\n",
      " Schema: CustomerName, Email\n",
      "Expected: CustomerName but found: Christy Zhu\n",
      "CSV file: file:///home/radek/git_projekty/sparkTraining/2019.csv\n"
     ]
    },
    {
     "data": {
      "text/plain": [
       "[Row(CustomerName='Jonathon Gutierrez', Email='jonathon8@adventure-works.com', First='Jonathon', Last='Gutierrez'),\n",
       " Row(CustomerName='Blake Butler', Email='blake62@adventure-works.com', First='Blake', Last='Butler'),\n",
       " Row(CustomerName='Melissa Perry', Email='melissa2@adventure-works.com', First='Melissa', Last='Perry'),\n",
       " Row(CustomerName='Hailey James', Email='hailey17@adventure-works.com', First='Hailey', Last='James'),\n",
       " Row(CustomerName='Jasmine West', Email='jasmine37@adventure-works.com', First='Jasmine', Last='West'),\n",
       " Row(CustomerName='Teresa Ruiz', Email='teresa3@adventure-works.com', First='Teresa', Last='Ruiz'),\n",
       " Row(CustomerName='Kenneth Lal', Email='kenneth8@adventure-works.com', First='Kenneth', Last='Lal'),\n",
       " Row(CustomerName='Eduardo Perez', Email='eduardo36@adventure-works.com', First='Eduardo', Last='Perez'),\n",
       " Row(CustomerName='James Simmons', Email='james31@adventure-works.com', First='James', Last='Simmons'),\n",
       " Row(CustomerName='Darren Rana', Email='darren14@adventure-works.com', First='Darren', Last='Rana')]"
      ]
     },
     "metadata": {},
     "output_type": "display_data"
    },
    {
     "name": "stdout",
     "output_type": "stream",
     "text": [
      "+------------------+--------------------+--------+---------+\n",
      "|      CustomerName|               Email|   First|     Last|\n",
      "+------------------+--------------------+--------+---------+\n",
      "|Jonathon Gutierrez|jonathon8@adventu...|Jonathon|Gutierrez|\n",
      "|      Blake Butler|blake62@adventure...|   Blake|   Butler|\n",
      "|     Melissa Perry|melissa2@adventur...| Melissa|    Perry|\n",
      "|      Hailey James|hailey17@adventur...|  Hailey|    James|\n",
      "|      Jasmine West|jasmine37@adventu...| Jasmine|     West|\n",
      "+------------------+--------------------+--------+---------+\n",
      "only showing top 5 rows\n",
      "\n"
     ]
    },
    {
     "name": "stderr",
     "output_type": "stream",
     "text": [
      "24/03/26 09:14:58 WARN CSVHeaderChecker: CSV header does not conform to the schema.\n",
      " Header: Christy Zhu, christy12@adventure-works.com\n",
      " Schema: CustomerName, Email\n",
      "Expected: CustomerName but found: Christy Zhu\n",
      "CSV file: file:///home/radek/git_projekty/sparkTraining/2019.csv\n"
     ]
    }
   ],
   "source": [
    "# Create customer_silver dataframe\n",
    "\n",
    "dfdimCustomer_silver = (\n",
    "    df5.dropDuplicates([\"CustomerName\", \"Email\"])\n",
    "    .select(col(\"CustomerName\"), col(\"Email\"))\n",
    "    .withColumn(\"First\", split(col(\"CustomerName\"), \" \").getItem(0))\n",
    "    .withColumn(\"Last\", split(col(\"CustomerName\"), \" \").getItem(1))\n",
    ")\n",
    "\n",
    "# Display the first 10 rows of the dataframe to preview your data\n",
    "\n",
    "display(dfdimCustomer_silver.head(10))\n",
    "dfdimCustomer_silver.show(5)"
   ]
  },
  {
   "cell_type": "code",
   "execution_count": 74,
   "metadata": {},
   "outputs": [],
   "source": [
    "dfdimCustomer_silver.createOrReplaceTempView(\"dfdimCustomer_silver\")"
   ]
  },
  {
   "cell_type": "code",
   "execution_count": 75,
   "metadata": {},
   "outputs": [
    {
     "name": "stderr",
     "output_type": "stream",
     "text": [
      "24/03/26 09:15:04 WARN CSVHeaderChecker: CSV header does not conform to the schema.\n",
      " Header: Christy Zhu, christy12@adventure-works.com\n",
      " Schema: CustomerName, Email\n",
      "Expected: CustomerName but found: Christy Zhu\n",
      "CSV file: file:///home/radek/git_projekty/sparkTraining/2019.csv\n"
     ]
    },
    {
     "data": {
      "text/html": [
       "<table><tr style=\"border-bottom: 1px solid\"><td style=\"font-weight: bold\">CustomerName</td><td style=\"font-weight: bold\">Email</td><td style=\"font-weight: bold\">First</td><td style=\"font-weight: bold\">Last</td></tr><tr><td>Jonathon Gutierrez</td><td>jonathon8@adventure-works.com</td><td>Jonathon</td><td>Gutierrez</td></tr><tr><td>Blake Butler</td><td>blake62@adventure-works.com</td><td>Blake</td><td>Butler</td></tr><tr><td>Melissa Perry</td><td>melissa2@adventure-works.com</td><td>Melissa</td><td>Perry</td></tr><tr><td>Hailey James</td><td>hailey17@adventure-works.com</td><td>Hailey</td><td>James</td></tr><tr><td>Jasmine West</td><td>jasmine37@adventure-works.com</td><td>Jasmine</td><td>West</td></tr></table>"
      ],
      "text/plain": [
       "<IPython.core.display.HTML object>"
      ]
     },
     "execution_count": 75,
     "metadata": {},
     "output_type": "execute_result"
    }
   ],
   "source": [
    "%%sparksql\n",
    "select * from dfdimCustomer_silver limit 5;\n"
   ]
  },
  {
   "cell_type": "code",
   "execution_count": 77,
   "metadata": {},
   "outputs": [
    {
     "data": {
      "text/plain": [
       "DataFrame[ProductID: string, ProductName: string, Category: string, ListPrice: string]"
      ]
     },
     "metadata": {},
     "output_type": "display_data"
    }
   ],
   "source": [
    "# %pyspark\n",
    "df7 = spark.read.load(\"products.csv\", format=\"csv\", header=True)\n",
    "display(df7.limit(5))"
   ]
  },
  {
   "cell_type": "code",
   "execution_count": 83,
   "metadata": {},
   "outputs": [
    {
     "data": {
      "text/plain": [
       "DataFrame[ProdID: int, ProdName: string, Category: string, ListPrice: float]"
      ]
     },
     "metadata": {},
     "output_type": "display_data"
    },
    {
     "name": "stdout",
     "output_type": "stream",
     "text": [
      "+------+--------------------+--------------+---------+\n",
      "|ProdID|            ProdName|      Category|ListPrice|\n",
      "+------+--------------------+--------------+---------+\n",
      "|  NULL|         ProductName|      Category|     NULL|\n",
      "|   771|Mountain-100 Silv...|Mountain Bikes|  3399.99|\n",
      "|   772|Mountain-100 Silv...|Mountain Bikes|  3399.99|\n",
      "|   773|Mountain-100 Silv...|Mountain Bikes|  3399.99|\n",
      "|   774|Mountain-100 Silv...|Mountain Bikes|  3399.99|\n",
      "+------+--------------------+--------------+---------+\n",
      "only showing top 5 rows\n",
      "\n"
     ]
    }
   ],
   "source": [
    "from pyspark.sql.types import *\n",
    "from pyspark.sql.functions import *\n",
    "\n",
    "productSchema = StructType(\n",
    "    [\n",
    "        StructField(\"ProdID\", IntegerType()),\n",
    "        StructField(\"ProdName\", StringType()),\n",
    "        StructField(\"Category\", StringType()),\n",
    "        StructField(\"ListPrice\", FloatType()),\n",
    "    ]\n",
    ")\n",
    "\n",
    "df8 = spark.read.load(\"products.csv\", format=\"csv\", schema=productSchema, header=False)\n",
    "display(df8.limit(5))\n",
    "df8.show(5)"
   ]
  },
  {
   "cell_type": "code",
   "execution_count": 84,
   "metadata": {},
   "outputs": [
    {
     "name": "stdout",
     "output_type": "stream",
     "text": [
      "+------+---------+\n",
      "|ProdID|ListPrice|\n",
      "+------+---------+\n",
      "|  NULL|     NULL|\n",
      "|   771|  3399.99|\n",
      "|   772|  3399.99|\n",
      "|   773|  3399.99|\n",
      "|   774|  3399.99|\n",
      "+------+---------+\n",
      "only showing top 5 rows\n",
      "\n"
     ]
    }
   ],
   "source": [
    "pricelist_df = df8.select(\"ProdID\", \"ListPrice\")\n",
    "pricelist_df.show(5)"
   ]
  },
  {
   "cell_type": "code",
   "execution_count": 95,
   "metadata": {},
   "outputs": [
    {
     "name": "stdout",
     "output_type": "stream",
     "text": [
      "+--------------------+---------+\n",
      "|            ProdName|ListPrice|\n",
      "+--------------------+---------+\n",
      "|Mountain-100 Silv...|  3399.99|\n",
      "|Mountain-100 Silv...|  3399.99|\n",
      "|Mountain-100 Silv...|  3399.99|\n",
      "|Mountain-100 Silv...|  3399.99|\n",
      "|Mountain-100 Blac...|  3374.99|\n",
      "|Mountain-100 Blac...|  3374.99|\n",
      "|Mountain-100 Blac...|  3374.99|\n",
      "|Mountain-100 Blac...|  3374.99|\n",
      "+--------------------+---------+\n",
      "only showing top 8 rows\n",
      "\n"
     ]
    }
   ],
   "source": [
    "bikes_df = df8.select(\"ProdName\", \"ListPrice\").where(\n",
    "    (df8[\"Category\"] == \"Mountain Bikes\") | (df8[\"Category\"] == \"Road Bikes\")\n",
    ")\n",
    "bikes_df.show(8)"
   ]
  },
  {
   "cell_type": "code",
   "execution_count": 100,
   "metadata": {},
   "outputs": [
    {
     "name": "stdout",
     "output_type": "stream",
     "text": [
      "+---------------+-----+\n",
      "|       Category|count|\n",
      "+---------------+-----+\n",
      "|       Headsets|    3|\n",
      "|         Wheels|   14|\n",
      "|Bottom Brackets|    3|\n",
      "| Touring Frames|   18|\n",
      "| Mountain Bikes|   32|\n",
      "+---------------+-----+\n",
      "only showing top 5 rows\n",
      "\n"
     ]
    }
   ],
   "source": [
    "count_df8 = df8.select(\"ProdID\", \"Category\").groupBy(\"Category\").count()\n",
    "count_df8.show(5)"
   ]
  },
  {
   "cell_type": "code",
   "execution_count": 101,
   "metadata": {},
   "outputs": [],
   "source": [
    "df8.createOrReplaceTempView(\"products\")"
   ]
  },
  {
   "cell_type": "code",
   "execution_count": 102,
   "metadata": {},
   "outputs": [
    {
     "data": {
      "text/html": [
       "<table><tr style=\"border-bottom: 1px solid\"><td style=\"font-weight: bold\">ProdID</td><td style=\"font-weight: bold\">ProdName</td><td style=\"font-weight: bold\">Category</td><td style=\"font-weight: bold\">ListPrice</td></tr><tr><td>null</td><td>ProductName</td><td>Category</td><td>null</td></tr><tr><td>771</td><td>Mountain-100 Silver, 38</td><td>Mountain Bikes</td><td>3399.989990234375</td></tr><tr><td>772</td><td>Mountain-100 Silver, 42</td><td>Mountain Bikes</td><td>3399.989990234375</td></tr><tr><td>773</td><td>Mountain-100 Silver, 44</td><td>Mountain Bikes</td><td>3399.989990234375</td></tr><tr><td>774</td><td>Mountain-100 Silver, 48</td><td>Mountain Bikes</td><td>3399.989990234375</td></tr><tr><td>775</td><td>Mountain-100 Black, 38</td><td>Mountain Bikes</td><td>3374.989990234375</td></tr><tr><td>776</td><td>Mountain-100 Black, 42</td><td>Mountain Bikes</td><td>3374.989990234375</td></tr><tr><td>777</td><td>Mountain-100 Black, 44</td><td>Mountain Bikes</td><td>3374.989990234375</td></tr><tr><td>778</td><td>Mountain-100 Black, 48</td><td>Mountain Bikes</td><td>3374.989990234375</td></tr><tr><td>779</td><td>Mountain-200 Silver, 38</td><td>Mountain Bikes</td><td>2319.989990234375</td></tr></table>"
      ],
      "text/plain": [
       "<IPython.core.display.HTML object>"
      ]
     },
     "execution_count": 102,
     "metadata": {},
     "output_type": "execute_result"
    }
   ],
   "source": [
    "%%sparksql\n",
    "select * from products limit 10;"
   ]
  },
  {
   "cell_type": "code",
   "execution_count": 104,
   "metadata": {},
   "outputs": [
    {
     "data": {
      "text/plain": [
       "DataFrame[ProdID: int, ProdName: string, ListPrice: float]"
      ]
     },
     "metadata": {},
     "output_type": "display_data"
    },
    {
     "name": "stdout",
     "output_type": "stream",
     "text": [
      "+------+--------------------+---------+\n",
      "|ProdID|            ProdName|ListPrice|\n",
      "+------+--------------------+---------+\n",
      "|   771|Mountain-100 Silv...|  3399.99|\n",
      "|   772|Mountain-100 Silv...|  3399.99|\n",
      "|   773|Mountain-100 Silv...|  3399.99|\n",
      "|   774|Mountain-100 Silv...|  3399.99|\n",
      "|   775|Mountain-100 Blac...|  3374.99|\n",
      "+------+--------------------+---------+\n",
      "only showing top 5 rows\n",
      "\n"
     ]
    }
   ],
   "source": [
    "bikes_df = spark.sql(\n",
    "    \"SELECT ProdID, ProdName, ListPrice \\\n",
    "                    FROM products \\\n",
    "                    WHERE Category IN ('Mountain Bikes', 'Road Bikes')\"\n",
    ")\n",
    "display(bikes_df)\n",
    "bikes_df.show(5)"
   ]
  },
  {
   "cell_type": "code",
   "execution_count": 105,
   "metadata": {},
   "outputs": [
    {
     "name": "stdout",
     "output_type": "stream",
     "text": [
      "only showing top 20 row(s)\n"
     ]
    },
    {
     "data": {
      "text/html": [
       "<table><tr style=\"border-bottom: 1px solid\"><td style=\"font-weight: bold\">Category</td><td style=\"font-weight: bold\">ProdCount</td></tr><tr><td>Bib-Shorts</td><td>3</td></tr><tr><td>Bike Racks</td><td>1</td></tr><tr><td>Bike Stands</td><td>1</td></tr><tr><td>Bottles and Cages</td><td>3</td></tr><tr><td>Bottom Brackets</td><td>3</td></tr><tr><td>Brakes</td><td>2</td></tr><tr><td>Caps</td><td>1</td></tr><tr><td>Category</td><td>0</td></tr><tr><td>Chains</td><td>1</td></tr><tr><td>Cleaners</td><td>1</td></tr><tr><td>Cranksets</td><td>3</td></tr><tr><td>Derailleurs</td><td>2</td></tr><tr><td>Fenders</td><td>1</td></tr><tr><td>Forks</td><td>3</td></tr><tr><td>Gloves</td><td>6</td></tr><tr><td>Handlebars</td><td>8</td></tr><tr><td>Headsets</td><td>3</td></tr><tr><td>Helmets</td><td>3</td></tr><tr><td>Hydration Packs</td><td>1</td></tr><tr><td>Jerseys</td><td>8</td></tr></table>"
      ],
      "text/plain": [
       "<IPython.core.display.HTML object>"
      ]
     },
     "execution_count": 105,
     "metadata": {},
     "output_type": "execute_result"
    }
   ],
   "source": [
    "%%sparksql\n",
    "SELECT Category, COUNT(ProdID) AS ProdCount FROM products GROUP BY Category ORDER BY Category"
   ]
  },
  {
   "cell_type": "code",
   "execution_count": 118,
   "metadata": {},
   "outputs": [
    {
     "data": {
      "text/plain": [
       "<Figure size 640x480 with 0 Axes>"
      ]
     },
     "metadata": {},
     "output_type": "display_data"
    },
    {
     "data": {
      "image/png": "[encoded data removed]",
      "text/plain": [
       "<Figure size 1200x500 with 1 Axes>"
      ]
     },
     "metadata": {},
     "output_type": "display_data"
    }
   ],
   "source": [
    "from matplotlib import pyplot as plt\n",
    "\n",
    "data = spark.sql(\n",
    "    \"SELECT Category, COUNT(ProdID) AS ProdCount FROM products \\\n",
    "                GROUP BY Category \\\n",
    "                ORDER BY Category\"\n",
    ").toPandas()\n",
    "\n",
    "# clear the plot\n",
    "plt.clf()\n",
    "\n",
    "# Create a Fiture\n",
    "fig = plt.figure(figsize=(12, 5))\n",
    "\n",
    "# create a bar plot of product counts by category\n",
    "plt.bar(x=data[\"Category\"], height=data[\"ProdCount\"], color=\"green\")\n",
    "\n",
    "# customize the chart\n",
    "plt.title(\"Prodct Counts by Category\")\n",
    "plt.xlabel(\"Category\")\n",
    "plt.ylabel(\"Products\")\n",
    "plt.grid(color=\"grey\", linestyle=\"--\", linewidth=2, axis=\"y\", alpha=0.7)\n",
    "plt.xticks(rotation=90)\n",
    "\n",
    "# show the plot\n",
    "plt.show()"
   ]
  },
  {
   "cell_type": "code",
   "execution_count": 125,
   "metadata": {},
   "outputs": [],
   "source": [
    "df_sales = spark.read.load(\"sales.csv\", format=\"csv\", header=True)\n",
    "delta_table_path = \"sales\"\n",
    "# df_sales.write.format(\"delta\").save(delta_table_path)"
   ]
  },
  {
   "cell_type": "markdown",
   "metadata": {},
   "source": [
    "PONIŻEJ NIE DZIALA LOKALNIE"
   ]
  },
  {
   "cell_type": "code",
   "execution_count": null,
   "metadata": {},
   "outputs": [],
   "source": [
    "from delta.tables import *\n",
    "from pyspark.sql.functions import *\n",
    "\n",
    "# Create a deltaTable object\n",
    "deltaTable = DeltaTable.forPath(spark, delta_table_path)\n",
    "\n",
    "# Update the table (reduce price of accessories by 10%)\n",
    "deltaTable.update(condition=\"Category == 'Accessories'\", set={\"Price\": \"Price * 0.9\"})"
   ]
  },
  {
   "cell_type": "code",
   "execution_count": null,
   "metadata": {},
   "outputs": [],
   "source": [
    "# from pyspark.sql import Row\n",
    "# Customer = Row(\"firstName\", \"lastName\", \"email\", \"loyaltyPoints\")\n",
    "\n",
    "# customer_1 = Customer('John', 'Smith', 'john.smith@contoso.com', 15)\n",
    "# customer_2 = Customer('Anna', 'Miller', 'anna.miller@contoso.com', 65)\n",
    "# customer_3 = Customer('Sam', 'Walters', 'sam@contoso.com', 6)\n",
    "# customer_4 = Customer('Mark', 'Duffy', 'mark@contoso.com', 78)\n",
    "\n",
    "# customers = [customer_1, customer_2, customer_3, customer_4]\n",
    "# df = spark.createDataFrame(customers)\n",
    "\n",
    "# df.write.parquet(\"<path>/customers\")"
   ]
  },
  {
   "cell_type": "code",
   "execution_count": null,
   "metadata": {},
   "outputs": [],
   "source": [
    "# Create customer_gold dimension delta table\n",
    "# DeltaTable.createIfNotExists(spark) \\\n",
    "#     .tableName(\"sales.dimcustomer_gold\") \\\n",
    "#     .addColumn(\"CustomerName\", StringType()) \\\n",
    "#     .addColumn(\"Email\",  StringType()) \\\n",
    "#     .addColumn(\"First\", StringType()) \\\n",
    "#     .addColumn(\"Last\", StringType()) \\\n",
    "#     .addColumn(\"CustomerID\", LongType()) \\\n",
    "#     .execute()"
   ]
  },
  {
   "cell_type": "code",
   "execution_count": 84,
   "metadata": {},
   "outputs": [],
   "source": [
    "# IT DOES NOT WORK BECAUSE CELL ABOVE\n",
    "# dfdimCustomer_temp = spark.read.table(\"Sales.dimCustomer_gold\")\n",
    "\n",
    "# MAXCustomerID = dfdimCustomer_temp.select(coalesce(max(col(\"CustomerID\")),lit(0)).alias(\"MAXCustomerID\")).first()[0]\n",
    "\n",
    "# dfdimCustomer_gold = dfdimCustomer_silver.join(dfdimCustomer_temp,(dfdimCustomer_silver.CustomerName == dfdimCustomer_temp.CustomerName) & (dfdimCustomer_silver.Email == dfdimCustomer_temp.Email), \"left_anti\")\n",
    "\n",
    "# dfdimCustomer_gold = dfdimCustomer_gold.withColumn(\"CustomerID\",monotonically_increasing_id() + MAXCustomerID + 1)\n",
    "\n",
    "# Display the first 10 rows of the dataframe to preview your data\n",
    "\n",
    "# display(dfdimCustomer_gold.head(10))"
   ]
  },
  {
   "cell_type": "code",
   "execution_count": null,
   "metadata": {},
   "outputs": [],
   "source": [
    "# deltaTable = DeltaTable.forPath(spark, 'Tables/dimproduct_gold')\n",
    "\n",
    "# dfUpdates = dfdimProduct_gold\n",
    "\n",
    "# deltaTable.alias('silver') \\\n",
    "#   .merge(\n",
    "#         dfUpdates.alias('updates'),\n",
    "#         'silver.ItemName = updates.ItemName AND silver.ItemInfo = updates.ItemInfo'\n",
    "#         ) \\\n",
    "#         .whenMatchedUpdate(set =\n",
    "#         {\n",
    "\n",
    "#         }\n",
    "#         ) \\\n",
    "#         .whenNotMatchedInsert(values =\n",
    "#          {\n",
    "#           \"ItemName\": \"updates.ItemName\",\n",
    "#           \"ItemInfo\": \"updates.ItemInfo\",\n",
    "#           \"ItemID\": \"updates.ItemID\"\n",
    "#           }\n",
    "#           ) \\\n",
    "#           .execute()"
   ]
  },
  {
   "cell_type": "code",
   "execution_count": null,
   "metadata": {},
   "outputs": [],
   "source": [
    "# DeltaTable.createIfNotExists(spark) \\\n",
    "#     .tableName(\"sales.factsales_gold\") \\\n",
    "#     .addColumn(\"CustomerID\", LongType()) \\\n",
    "#     .addColumn(\"ItemID\", LongType()) \\\n",
    "#     .addColumn(\"OrderDate\", DateType()) \\\n",
    "#     .addColumn(\"Quantity\", IntegerType()) \\\n",
    "#     .addColumn(\"UnitPrice\", FloatType()) \\\n",
    "#     .addColumn(\"Tax\", FloatType()) \\\n",
    "#     .execute()"
   ]
  },
  {
   "cell_type": "code",
   "execution_count": null,
   "metadata": {},
   "outputs": [],
   "source": [
    "# from pyspark.sql.functions import col\n",
    "\n",
    "# dfdimCustomer_temp = spark.read.table(\"Sales.dimCustomer_gold\")\n",
    "# dfdimProduct_temp = spark.read.table(\"Sales.dimProduct_gold\")\n",
    "\n",
    "# df = df.withColumn(\"ItemName\",split(col(\"Item\"), \", \").getItem(0)) \\\n",
    "#     .withColumn(\"ItemInfo\",when((split(col(\"Item\"), \", \").getItem(1).isNull() | (split(col(\"Item\"), \", \").getItem(1)==\"\")),lit(\"\")).otherwise(split(col(\"Item\"), \", \").getItem(1))) \\\n",
    "\n",
    "\n",
    "# # Create Sales_gold dataframe\n",
    "\n",
    "# dffactSales_gold = df.alias(\"df1\").join(dfdimCustomer_temp.alias(\"df2\"),(df.CustomerName == dfdimCustomer_temp.CustomerName) & (df.Email == dfdimCustomer_temp.Email), \"left\") \\\n",
    "#         .join(dfdimProduct_temp.alias(\"df3\"),(df.ItemName == dfdimProduct_temp.ItemName) & (df.ItemInfo == dfdimProduct_temp.ItemInfo), \"left\") \\\n",
    "#     .select(col(\"df2.CustomerID\") \\\n",
    "#         , col(\"df3.ItemID\") \\\n",
    "#         , col(\"df1.OrderDate\") \\\n",
    "#         , col(\"df1.Quantity\") \\\n",
    "#         , col(\"df1.UnitPrice\") \\\n",
    "#         , col(\"df1.Tax\") \\\n",
    "#     ).orderBy(col(\"df1.OrderDate\"), col(\"df2.CustomerID\"), col(\"df3.ItemID\"))\n",
    "\n",
    "# # Display the first 10 rows of the dataframe to preview your data\n",
    "\n",
    "# display(dffactSales_gold.head(10))"
   ]
  },
  {
   "cell_type": "code",
   "execution_count": null,
   "metadata": {},
   "outputs": [],
   "source": [
    "# from delta.tables import *\n",
    "\n",
    "# deltaTable = DeltaTable.forPath(spark, 'Tables/factsales_gold')\n",
    "\n",
    "# dfUpdates = dffactSales_gold\n",
    "\n",
    "# deltaTable.alias('silver') \\\n",
    "#   .merge(\n",
    "#     dfUpdates.alias('updates'),\n",
    "#     'silver.OrderDate = updates.OrderDate AND silver.CustomerID = updates.CustomerID AND silver.ItemID = updates.ItemID'\n",
    "#   ) \\\n",
    "#    .whenMatchedUpdate(set =\n",
    "#     {\n",
    "\n",
    "#     }\n",
    "#   ) \\\n",
    "#  .whenNotMatchedInsert(values =\n",
    "#     {\n",
    "#       \"CustomerID\": \"updates.CustomerID\",\n",
    "#       \"ItemID\": \"updates.ItemID\",\n",
    "#       \"OrderDate\": \"updates.OrderDate\",\n",
    "#       \"Quantity\": \"updates.Quantity\",\n",
    "#       \"UnitPrice\": \"updates.UnitPrice\",\n",
    "#       \"Tax\": \"updates.Tax\"\n",
    "#     }\n",
    "#   ) \\\n",
    "#   .execute()"
   ]
  },
  {
   "cell_type": "code",
   "execution_count": null,
   "metadata": {},
   "outputs": [],
   "source": [
    "# COPY my_table\n",
    "# FROM 'https://myaccount.blob.core.windows.net/myblobcontainer/folder0/*.csv,\n",
    "#     https://myaccount.blob.core.windows.net/myblobcontainer/folder1/'\n",
    "# WITH (\n",
    "#     FILE_TYPE = 'CSV',\n",
    "#     CREDENTIAL=(IDENTITY= 'Shared Access Signature', SECRET='<Your_SAS_Token>')\n",
    "#     FIELDTERMINATOR = '|'\n",
    "# )\n",
    "\n",
    "# COPY INTO test_parquet\n",
    "# FROM 'https://myaccount.blob.core.windows.net/myblobcontainer/folder1/*.parquet'\n",
    "# WITH (\n",
    "#     CREDENTIAL=(IDENTITY= 'Shared Access Signature', SECRET='<Your_SAS_Token>')\n",
    "# )"
   ]
  }
 ],
 "metadata": {
  "kernelspec": {
   "display_name": ".venv",
   "language": "python",
   "name": "python3"
  },
  "language_info": {
   "codemirror_mode": {
    "name": "ipython",
    "version": 3
   },
   "file_extension": ".py",
   "mimetype": "text/x-python",
   "name": "python",
   "nbconvert_exporter": "python",
   "pygments_lexer": "ipython3",
   "version": "3.12.0"
  }
 },
 "nbformat": 4,
 "nbformat_minor": 2
}
